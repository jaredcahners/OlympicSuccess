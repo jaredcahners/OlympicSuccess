{
 "cells": [
  {
   "cell_type": "code",
   "execution_count": 1,
   "metadata": {},
   "outputs": [],
   "source": [
    "import pandas as pd"
   ]
  },
  {
   "cell_type": "code",
   "execution_count": 2,
   "metadata": {},
   "outputs": [],
   "source": [
    "import matplotlib.pyplot as plt"
   ]
  },
  {
   "cell_type": "code",
   "execution_count": 3,
   "metadata": {},
   "outputs": [],
   "source": [
    "athlete_data = pd.read_csv('/Users/jaredcahners/Desktop/Studying/Coursera/Learn_SQL_Basics_for_Data_Science_Specialization/Capstone/Data/athlete_events.csv')"
   ]
  },
  {
   "cell_type": "code",
   "execution_count": 4,
   "metadata": {},
   "outputs": [],
   "source": [
    "country_populations = pd.read_csv('/Users/jaredcahners/Desktop/Studying/Coursera/Learn_SQL_Basics_for_Data_Science_Specialization/Capstone/Data/population_by_country_2020.csv')"
   ]
  },
  {
   "cell_type": "code",
   "execution_count": 5,
   "metadata": {},
   "outputs": [],
   "source": [
    "GDP_per_cap = pd.read_csv('/Users/jaredcahners/Desktop/Studying/Coursera/Learn_SQL_Basics_for_Data_Science_Specialization/Capstone/Data/gdp.csv')"
   ]
  },
  {
   "cell_type": "code",
   "execution_count": 6,
   "metadata": {},
   "outputs": [],
   "source": [
    "athlete_data.loc[athlete_data['NOC'] == 'USA', 'Team'] = 'United States'"
   ]
  },
  {
   "cell_type": "code",
   "execution_count": 7,
   "metadata": {},
   "outputs": [],
   "source": [
    "athlete_data.loc[athlete_data['NOC'] == 'GRE', 'Team'] = 'Greece'"
   ]
  },
  {
   "cell_type": "code",
   "execution_count": 8,
   "metadata": {},
   "outputs": [],
   "source": [
    "athlete_data.loc[athlete_data['NOC'] == 'GER', 'Team'] = 'Germany'"
   ]
  },
  {
   "cell_type": "code",
   "execution_count": 9,
   "metadata": {},
   "outputs": [],
   "source": [
    "athlete_data.loc[athlete_data['NOC'] == 'SWE', 'Team'] = 'Sweden'"
   ]
  },
  {
   "cell_type": "code",
   "execution_count": 10,
   "metadata": {},
   "outputs": [],
   "source": [
    "athlete_data.loc[athlete_data['NOC'] == 'ITA', 'Team'] = 'Italy'"
   ]
  },
  {
   "cell_type": "code",
   "execution_count": 11,
   "metadata": {},
   "outputs": [],
   "source": [
    "athlete_data.loc[athlete_data['NOC'] == 'MEX', 'Team'] = 'Mexico'"
   ]
  },
  {
   "cell_type": "code",
   "execution_count": 12,
   "metadata": {},
   "outputs": [],
   "source": [
    "athlete_data.loc[athlete_data['NOC'] == 'FRA', 'Team'] = 'France'"
   ]
  },
  {
   "cell_type": "code",
   "execution_count": 13,
   "metadata": {},
   "outputs": [],
   "source": [
    "athlete_data.loc[athlete_data['NOC'] == 'AUT', 'Team'] = 'Austria'"
   ]
  },
  {
   "cell_type": "code",
   "execution_count": 14,
   "metadata": {},
   "outputs": [],
   "source": [
    "athlete_data.loc[athlete_data['NOC'] == 'BEL', 'Team'] = 'Belgium'"
   ]
  },
  {
   "cell_type": "code",
   "execution_count": 15,
   "metadata": {},
   "outputs": [],
   "source": [
    "athlete_data.loc[athlete_data['NOC'] == 'DEN', 'Team'] = 'Denmark'"
   ]
  },
  {
   "cell_type": "code",
   "execution_count": 16,
   "metadata": {},
   "outputs": [],
   "source": [
    "athlete_data.loc[athlete_data['NOC'] == 'FIN', 'Team'] = 'Finland'"
   ]
  },
  {
   "cell_type": "code",
   "execution_count": 17,
   "metadata": {},
   "outputs": [],
   "source": [
    "athlete_data.loc[athlete_data['NOC'] == 'NZL', 'Team'] = 'New Zealand'"
   ]
  },
  {
   "cell_type": "code",
   "execution_count": 18,
   "metadata": {},
   "outputs": [],
   "source": [
    "athlete_data.loc[athlete_data['NOC'] == 'NOR', 'Team'] = 'Norway'"
   ]
  },
  {
   "cell_type": "code",
   "execution_count": 19,
   "metadata": {},
   "outputs": [],
   "source": [
    "athlete_data.loc[athlete_data['NOC'] == 'GBR', 'Team'] = 'United Kingdom'"
   ]
  },
  {
   "cell_type": "code",
   "execution_count": 20,
   "metadata": {},
   "outputs": [],
   "source": [
    "athlete_data.loc[athlete_data['NOC'] == 'NED', 'Team'] = 'Netherlands'"
   ]
  },
  {
   "cell_type": "code",
   "execution_count": 21,
   "metadata": {},
   "outputs": [],
   "source": [
    "athlete_data.loc[athlete_data['NOC'] == 'ARG', 'Team'] = 'Argentina'"
   ]
  },
  {
   "cell_type": "code",
   "execution_count": 22,
   "metadata": {},
   "outputs": [],
   "source": [
    "athlete_data.loc[athlete_data['NOC'] == 'IRL', 'Team'] = 'Ireland'"
   ]
  },
  {
   "cell_type": "code",
   "execution_count": 23,
   "metadata": {},
   "outputs": [],
   "source": [
    "athlete_data.loc[athlete_data['NOC'] == 'SUI', 'Team'] = 'Switzerland'"
   ]
  },
  {
   "cell_type": "code",
   "execution_count": 24,
   "metadata": {},
   "outputs": [],
   "source": [
    "athlete_data.loc[athlete_data['NOC'] == 'POR', 'Team'] = 'Portugal'"
   ]
  },
  {
   "cell_type": "code",
   "execution_count": 25,
   "metadata": {},
   "outputs": [],
   "source": [
    "athlete_data.loc[athlete_data['NOC'] == 'AUS', 'Team'] = 'Australia'"
   ]
  },
  {
   "cell_type": "code",
   "execution_count": 26,
   "metadata": {},
   "outputs": [],
   "source": [
    "athlete_data.loc[athlete_data['NOC'] == 'EST', 'Team'] = 'Estonia'"
   ]
  },
  {
   "cell_type": "code",
   "execution_count": 27,
   "metadata": {},
   "outputs": [],
   "source": [
    "athlete_data.loc[athlete_data['NOC'] == 'TUR', 'Team'] = 'Turkey'"
   ]
  },
  {
   "cell_type": "code",
   "execution_count": 28,
   "metadata": {},
   "outputs": [],
   "source": [
    "athlete_data.loc[athlete_data['NOC'] == 'JPN', 'Team'] = 'Japan'"
   ]
  },
  {
   "cell_type": "code",
   "execution_count": 29,
   "metadata": {},
   "outputs": [],
   "source": [
    "athlete_data.loc[athlete_data['NOC'] == 'CAN', 'Team'] = 'Canada'"
   ]
  },
  {
   "cell_type": "code",
   "execution_count": 30,
   "metadata": {},
   "outputs": [],
   "source": [
    "athlete_data.loc[athlete_data['NOC'] == 'URU', 'Team'] = 'Uruguay'"
   ]
  },
  {
   "cell_type": "code",
   "execution_count": 31,
   "metadata": {},
   "outputs": [],
   "source": [
    "athlete_data.loc[athlete_data['NOC'] == 'HUN', 'Team'] = 'Hungary'"
   ]
  },
  {
   "cell_type": "code",
   "execution_count": 32,
   "metadata": {},
   "outputs": [
    {
     "name": "stdout",
     "output_type": "stream",
     "text": [
      "<class 'pandas.core.frame.DataFrame'>\n",
      "RangeIndex: 271116 entries, 0 to 271115\n",
      "Data columns (total 15 columns):\n",
      " #   Column  Non-Null Count   Dtype  \n",
      "---  ------  --------------   -----  \n",
      " 0   ID      271116 non-null  int64  \n",
      " 1   Name    271116 non-null  object \n",
      " 2   Sex     271116 non-null  object \n",
      " 3   Age     261642 non-null  float64\n",
      " 4   Height  210945 non-null  float64\n",
      " 5   Weight  208241 non-null  float64\n",
      " 6   Team    271116 non-null  object \n",
      " 7   NOC     271116 non-null  object \n",
      " 8   Games   271116 non-null  object \n",
      " 9   Year    271116 non-null  int64  \n",
      " 10  Season  271116 non-null  object \n",
      " 11  City    271116 non-null  object \n",
      " 12  Sport   271116 non-null  object \n",
      " 13  Event   271116 non-null  object \n",
      " 14  Medal   39783 non-null   object \n",
      "dtypes: float64(3), int64(2), object(10)\n",
      "memory usage: 31.0+ MB\n"
     ]
    }
   ],
   "source": [
    "#athlete_data.info()"
   ]
  },
  {
   "cell_type": "code",
   "execution_count": 199,
   "metadata": {},
   "outputs": [
    {
     "data": {
      "text/html": [
       "<div>\n",
       "<style scoped>\n",
       "    .dataframe tbody tr th:only-of-type {\n",
       "        vertical-align: middle;\n",
       "    }\n",
       "\n",
       "    .dataframe tbody tr th {\n",
       "        vertical-align: top;\n",
       "    }\n",
       "\n",
       "    .dataframe thead th {\n",
       "        text-align: right;\n",
       "    }\n",
       "</style>\n",
       "<table border=\"1\" class=\"dataframe\">\n",
       "  <thead>\n",
       "    <tr style=\"text-align: right;\">\n",
       "      <th></th>\n",
       "      <th>ID</th>\n",
       "      <th>Name</th>\n",
       "      <th>Sex</th>\n",
       "      <th>Age</th>\n",
       "      <th>Height</th>\n",
       "      <th>Weight</th>\n",
       "      <th>Team</th>\n",
       "      <th>NOC</th>\n",
       "      <th>Games</th>\n",
       "      <th>Year</th>\n",
       "      <th>Season</th>\n",
       "      <th>City</th>\n",
       "      <th>Sport</th>\n",
       "      <th>Event</th>\n",
       "      <th>Medal</th>\n",
       "      <th>Country</th>\n",
       "    </tr>\n",
       "  </thead>\n",
       "  <tbody>\n",
       "    <tr>\n",
       "      <th>0</th>\n",
       "      <td>1</td>\n",
       "      <td>A Dijiang</td>\n",
       "      <td>M</td>\n",
       "      <td>24.0</td>\n",
       "      <td>180.0</td>\n",
       "      <td>80.0</td>\n",
       "      <td>China</td>\n",
       "      <td>CHN</td>\n",
       "      <td>1992 Summer</td>\n",
       "      <td>1992</td>\n",
       "      <td>Summer</td>\n",
       "      <td>Barcelona</td>\n",
       "      <td>Basketball</td>\n",
       "      <td>Basketball Men's Basketball</td>\n",
       "      <td>NaN</td>\n",
       "      <td>China</td>\n",
       "    </tr>\n",
       "    <tr>\n",
       "      <th>1</th>\n",
       "      <td>2</td>\n",
       "      <td>A Lamusi</td>\n",
       "      <td>M</td>\n",
       "      <td>23.0</td>\n",
       "      <td>170.0</td>\n",
       "      <td>60.0</td>\n",
       "      <td>China</td>\n",
       "      <td>CHN</td>\n",
       "      <td>2012 Summer</td>\n",
       "      <td>2012</td>\n",
       "      <td>Summer</td>\n",
       "      <td>London</td>\n",
       "      <td>Judo</td>\n",
       "      <td>Judo Men's Extra-Lightweight</td>\n",
       "      <td>NaN</td>\n",
       "      <td>China</td>\n",
       "    </tr>\n",
       "    <tr>\n",
       "      <th>2</th>\n",
       "      <td>3</td>\n",
       "      <td>Gunnar Nielsen Aaby</td>\n",
       "      <td>M</td>\n",
       "      <td>24.0</td>\n",
       "      <td>NaN</td>\n",
       "      <td>NaN</td>\n",
       "      <td>Denmark</td>\n",
       "      <td>DEN</td>\n",
       "      <td>1920 Summer</td>\n",
       "      <td>1920</td>\n",
       "      <td>Summer</td>\n",
       "      <td>Antwerpen</td>\n",
       "      <td>Football</td>\n",
       "      <td>Football Men's Football</td>\n",
       "      <td>NaN</td>\n",
       "      <td>Denmark</td>\n",
       "    </tr>\n",
       "    <tr>\n",
       "      <th>3</th>\n",
       "      <td>4</td>\n",
       "      <td>Edgar Lindenau Aabye</td>\n",
       "      <td>M</td>\n",
       "      <td>34.0</td>\n",
       "      <td>NaN</td>\n",
       "      <td>NaN</td>\n",
       "      <td>Denmark</td>\n",
       "      <td>DEN</td>\n",
       "      <td>1900 Summer</td>\n",
       "      <td>1900</td>\n",
       "      <td>Summer</td>\n",
       "      <td>Paris</td>\n",
       "      <td>Tug-Of-War</td>\n",
       "      <td>Tug-Of-War Men's Tug-Of-War</td>\n",
       "      <td>Gold</td>\n",
       "      <td>Denmark</td>\n",
       "    </tr>\n",
       "    <tr>\n",
       "      <th>4</th>\n",
       "      <td>5</td>\n",
       "      <td>Christine Jacoba Aaftink</td>\n",
       "      <td>F</td>\n",
       "      <td>21.0</td>\n",
       "      <td>185.0</td>\n",
       "      <td>82.0</td>\n",
       "      <td>Netherlands</td>\n",
       "      <td>NED</td>\n",
       "      <td>1988 Winter</td>\n",
       "      <td>1988</td>\n",
       "      <td>Winter</td>\n",
       "      <td>Calgary</td>\n",
       "      <td>Speed Skating</td>\n",
       "      <td>Speed Skating Women's 500 metres</td>\n",
       "      <td>NaN</td>\n",
       "      <td>Netherlands</td>\n",
       "    </tr>\n",
       "  </tbody>\n",
       "</table>\n",
       "</div>"
      ],
      "text/plain": [
       "   ID                      Name Sex   Age  Height  Weight         Team  NOC  \\\n",
       "0   1                 A Dijiang   M  24.0   180.0    80.0        China  CHN   \n",
       "1   2                  A Lamusi   M  23.0   170.0    60.0        China  CHN   \n",
       "2   3       Gunnar Nielsen Aaby   M  24.0     NaN     NaN      Denmark  DEN   \n",
       "3   4      Edgar Lindenau Aabye   M  34.0     NaN     NaN      Denmark  DEN   \n",
       "4   5  Christine Jacoba Aaftink   F  21.0   185.0    82.0  Netherlands  NED   \n",
       "\n",
       "         Games  Year  Season       City          Sport  \\\n",
       "0  1992 Summer  1992  Summer  Barcelona     Basketball   \n",
       "1  2012 Summer  2012  Summer     London           Judo   \n",
       "2  1920 Summer  1920  Summer  Antwerpen       Football   \n",
       "3  1900 Summer  1900  Summer      Paris     Tug-Of-War   \n",
       "4  1988 Winter  1988  Winter    Calgary  Speed Skating   \n",
       "\n",
       "                              Event Medal      Country  \n",
       "0       Basketball Men's Basketball   NaN        China  \n",
       "1      Judo Men's Extra-Lightweight   NaN        China  \n",
       "2           Football Men's Football   NaN      Denmark  \n",
       "3       Tug-Of-War Men's Tug-Of-War  Gold      Denmark  \n",
       "4  Speed Skating Women's 500 metres   NaN  Netherlands  "
      ]
     },
     "execution_count": 199,
     "metadata": {},
     "output_type": "execute_result"
    }
   ],
   "source": [
    "#athlete_data.head()"
   ]
  },
  {
   "cell_type": "code",
   "execution_count": 33,
   "metadata": {},
   "outputs": [],
   "source": [
    "country_populations.rename(columns = {'Country (or dependency)' : 'Country_or_Dependency', 'Population (2020)' : 'Population_2020', 'Urban Pop %' : 'Urban_Pop_Pct'}, inplace = True)"
   ]
  },
  {
   "cell_type": "code",
   "execution_count": 34,
   "metadata": {},
   "outputs": [],
   "source": [
    "country_populations['Country_or_Dependency'] = country_populations['Country_or_Dependency'].replace(['DR Congo', 'Congo'], ['Congo (Kinshasa)', 'Congo (Brazzaville)'])"
   ]
  },
  {
   "cell_type": "code",
   "execution_count": 35,
   "metadata": {},
   "outputs": [],
   "source": [
    "country_populations['Country_or_Dependency'] = country_populations['Country_or_Dependency'].replace([\"Côte d'Ivoire\"], \"Cote d'Ivoire\")"
   ]
  },
  {
   "cell_type": "code",
   "execution_count": 36,
   "metadata": {},
   "outputs": [],
   "source": [
    "country_populations['Country_or_Dependency'] = country_populations['Country_or_Dependency'].replace([\"Czech Republic (Czechia)\"], \"Czech Republic\")"
   ]
  },
  {
   "cell_type": "code",
   "execution_count": 37,
   "metadata": {},
   "outputs": [],
   "source": [
    "country_populations.loc[country_populations['Country_or_Dependency'] == 'Venezuela', 'Urban_Pop_Pct'] = '88.3%'"
   ]
  },
  {
   "cell_type": "code",
   "execution_count": 38,
   "metadata": {},
   "outputs": [],
   "source": [
    "country_populations.loc[country_populations['Country_or_Dependency'] == 'Hong Kong', 'Urban_Pop_Pct'] = '100%'"
   ]
  },
  {
   "cell_type": "code",
   "execution_count": 39,
   "metadata": {},
   "outputs": [],
   "source": [
    "country_populations.loc[country_populations['Country_or_Dependency'] == 'Singapore', 'Urban_Pop_Pct'] = '100%'"
   ]
  },
  {
   "cell_type": "code",
   "execution_count": 40,
   "metadata": {},
   "outputs": [],
   "source": [
    "country_populations.loc[country_populations['Country_or_Dependency'] == 'Kuwait', 'Urban_Pop_Pct'] = '100%'"
   ]
  },
  {
   "cell_type": "code",
   "execution_count": 41,
   "metadata": {},
   "outputs": [],
   "source": [
    "country_populations.loc[country_populations['Country_or_Dependency'] == 'Puerto Rico', 'Urban_Pop_Pct'] = '93.6%'"
   ]
  },
  {
   "cell_type": "code",
   "execution_count": 42,
   "metadata": {},
   "outputs": [],
   "source": [
    "country_populations.loc[country_populations['Country_or_Dependency'] == 'Macao', 'Urban_Pop_Pct'] = '100%'"
   ]
  },
  {
   "cell_type": "code",
   "execution_count": 43,
   "metadata": {},
   "outputs": [],
   "source": [
    "country_populations.loc[country_populations['Country_or_Dependency'] == 'Monaco', 'Urban_Pop_Pct'] = '100%'"
   ]
  },
  {
   "cell_type": "code",
   "execution_count": 44,
   "metadata": {},
   "outputs": [],
   "source": [
    "country_populations.loc[country_populations['Country_or_Dependency'] == 'Gibraltar', 'Urban_Pop_Pct'] = '100%'"
   ]
  },
  {
   "cell_type": "code",
   "execution_count": 45,
   "metadata": {},
   "outputs": [],
   "source": [
    "country_populations.loc[country_populations['Country_or_Dependency'] == 'Palau', 'Urban_Pop_Pct'] = '81%'"
   ]
  },
  {
   "cell_type": "code",
   "execution_count": 46,
   "metadata": {},
   "outputs": [],
   "source": [
    "country_populations.loc[country_populations['Country_or_Dependency'] == 'Anguilla', 'Urban_Pop_Pct'] = '100%'"
   ]
  },
  {
   "cell_type": "code",
   "execution_count": 47,
   "metadata": {},
   "outputs": [],
   "source": [
    "country_populations.loc[country_populations['Country_or_Dependency'] == 'Nauru', 'Urban_Pop_Pct'] = '100%'"
   ]
  },
  {
   "cell_type": "code",
   "execution_count": 48,
   "metadata": {},
   "outputs": [],
   "source": [
    "country_populations.loc[country_populations['Country_or_Dependency'] == 'Holy See', 'Urban_Pop_Pct'] = '100%'"
   ]
  },
  {
   "cell_type": "code",
   "execution_count": 49,
   "metadata": {},
   "outputs": [],
   "source": [
    "country_populations.loc[country_populations['Country_or_Dependency'] == 'Guadeloupe', 'Urban_Pop_Pct'] = '100%'"
   ]
  },
  {
   "cell_type": "code",
   "execution_count": 50,
   "metadata": {},
   "outputs": [],
   "source": [
    "country_populations['Urban_Pop_Pct'] = country_populations['Urban_Pop_Pct'].str[:-1]"
   ]
  },
  {
   "cell_type": "code",
   "execution_count": 51,
   "metadata": {},
   "outputs": [],
   "source": [
    "country_populations['Urban_Pop_Pct'] = country_populations['Urban_Pop_Pct'].astype(float).div(100)"
   ]
  },
  {
   "cell_type": "code",
   "execution_count": 52,
   "metadata": {},
   "outputs": [
    {
     "name": "stdout",
     "output_type": "stream",
     "text": [
      "<class 'pandas.core.frame.DataFrame'>\n",
      "RangeIndex: 235 entries, 0 to 234\n",
      "Data columns (total 11 columns):\n",
      " #   Column                 Non-Null Count  Dtype  \n",
      "---  ------                 --------------  -----  \n",
      " 0   Country_or_Dependency  235 non-null    object \n",
      " 1   Population_2020        235 non-null    int64  \n",
      " 2   Yearly Change          235 non-null    object \n",
      " 3   Net Change             235 non-null    int64  \n",
      " 4   Density (P/Km²)        235 non-null    int64  \n",
      " 5   Land Area (Km²)        235 non-null    int64  \n",
      " 6   Migrants (net)         201 non-null    float64\n",
      " 7   Fert. Rate             235 non-null    object \n",
      " 8   Med. Age               235 non-null    object \n",
      " 9   Urban_Pop_Pct          235 non-null    float64\n",
      " 10  World Share            235 non-null    object \n",
      "dtypes: float64(2), int64(4), object(5)\n",
      "memory usage: 20.3+ KB\n"
     ]
    }
   ],
   "source": [
    "country_populations.info()"
   ]
  },
  {
   "cell_type": "code",
   "execution_count": 53,
   "metadata": {},
   "outputs": [],
   "source": [
    "GDP_per_cap.rename(columns = {'Country Name' : 'Country_Name', 'Country Code' : 'Country_Code'}, inplace = True)"
   ]
  },
  {
   "cell_type": "code",
   "execution_count": 54,
   "metadata": {},
   "outputs": [],
   "source": [
    "GDP_per_cap['Country_Name'] = GDP_per_cap['Country_Name'].replace(['Congo, Dem. Rep.', 'Congo, Rep.'], ['Congo (Kinshasa)', 'Congo (Brazzaville)'])"
   ]
  },
  {
   "cell_type": "code",
   "execution_count": 55,
   "metadata": {},
   "outputs": [],
   "source": [
    "GDP_per_cap['Country_Name'] = GDP_per_cap['Country_Name'].replace(['Korea, Rep.'], 'South Korea')"
   ]
  },
  {
   "cell_type": "code",
   "execution_count": 56,
   "metadata": {},
   "outputs": [],
   "source": [
    "GDP_per_cap['Country_Name'] = GDP_per_cap['Country_Name'].replace(['Russian Federation'], 'Russia')"
   ]
  },
  {
   "cell_type": "code",
   "execution_count": 57,
   "metadata": {},
   "outputs": [
    {
     "name": "stdout",
     "output_type": "stream",
     "text": [
      "<class 'pandas.core.frame.DataFrame'>\n",
      "RangeIndex: 11508 entries, 0 to 11507\n",
      "Data columns (total 4 columns):\n",
      " #   Column        Non-Null Count  Dtype  \n",
      "---  ------        --------------  -----  \n",
      " 0   Country_Name  11508 non-null  object \n",
      " 1   Country_Code  11508 non-null  object \n",
      " 2   Year          11508 non-null  int64  \n",
      " 3   Value         11508 non-null  float64\n",
      "dtypes: float64(1), int64(1), object(2)\n",
      "memory usage: 359.8+ KB\n"
     ]
    }
   ],
   "source": [
    "GDP_per_cap.info()"
   ]
  },
  {
   "cell_type": "code",
   "execution_count": 58,
   "metadata": {},
   "outputs": [],
   "source": [
    "#!conda install -c anaconda pandasql -y\n",
    "from pandasql import sqldf\n",
    "sqlit = lambda q: sqldf(q, globals())"
   ]
  },
  {
   "cell_type": "code",
   "execution_count": 59,
   "metadata": {},
   "outputs": [],
   "source": [
    "#sqlit('SELECT * FROM athlete_data ')"
   ]
  },
  {
   "cell_type": "code",
   "execution_count": 60,
   "metadata": {},
   "outputs": [],
   "source": [
    "#sqlit(\"SELECT Name, Team, Event, Medal, Year FROM athlete_data WHERE Team = 'China' and Medal = 'Silver'\")"
   ]
  },
  {
   "cell_type": "code",
   "execution_count": 61,
   "metadata": {},
   "outputs": [],
   "source": [
    "#sqlit(\"SELECT * FROM athlete_data WHERE Team = 'Cambodia'\")"
   ]
  },
  {
   "cell_type": "code",
   "execution_count": 62,
   "metadata": {},
   "outputs": [],
   "source": [
    "#sqlit(\"SELECT * FROM country_populations\")"
   ]
  },
  {
   "cell_type": "code",
   "execution_count": 63,
   "metadata": {},
   "outputs": [],
   "source": [
    "#sqlit('SELECT Team, COUNT(*) as Athletes FROM athlete_data GROUP BY Team ORDER BY Athletes asc LIMIT 10')"
   ]
  },
  {
   "cell_type": "code",
   "execution_count": 64,
   "metadata": {},
   "outputs": [],
   "source": [
    "#sqlit(\"SELECT `Country Name` FROM GDP_per_cap GROUP BY `Country Name` LIMIT 30\")"
   ]
  },
  {
   "cell_type": "code",
   "execution_count": 65,
   "metadata": {},
   "outputs": [],
   "source": [
    "#sqlit(\"SELECT c.Country_or_Dependency, COUNT(*) as Athletes, c.population_2020 FROM country_populations c JOIN athlete_data a ON c.Country_or_Dependency = a.Team GROUP BY c.Country_or_Dependency ORDER BY Athletes DESC\")"
   ]
  },
  {
   "cell_type": "code",
   "execution_count": 66,
   "metadata": {},
   "outputs": [],
   "source": [
    "#sqlit(\"SELECT * FROM athlete_data LIMIT 10\")"
   ]
  },
  {
   "cell_type": "code",
   "execution_count": 67,
   "metadata": {},
   "outputs": [],
   "source": [
    "#sqlit(\"SELECT Team, COUNT(*) as Athletes FROM athlete_data GROUP BY Team ORDER BY Athletes DESC\")"
   ]
  },
  {
   "cell_type": "code",
   "execution_count": 68,
   "metadata": {
    "scrolled": false
   },
   "outputs": [],
   "source": [
    "#sqlit(\"SELECT Team, COUNT(*) as Athletes FROM athlete_data GROUP BY Team ORDER BY Athletes ASC LIMIT 20\")"
   ]
  },
  {
   "cell_type": "code",
   "execution_count": 69,
   "metadata": {},
   "outputs": [],
   "source": [
    "#sqlit(\"SELECT * FROM GDP_per_cap ORDER BY Value DESC LIMIT 20 \")"
   ]
  },
  {
   "cell_type": "code",
   "execution_count": 70,
   "metadata": {},
   "outputs": [],
   "source": [
    "#sqlit(\"SELECT * FROM GDP_per_cap LIMIT 20\")"
   ]
  },
  {
   "cell_type": "code",
   "execution_count": 71,
   "metadata": {},
   "outputs": [],
   "source": [
    "#sqlit(\"SELECT g.Country_Code as Code, c.Country_or_Dependency as Country, c.Population_2020 as Population, c.Urban_Pop_Pct as Urban_Pop FROM country_populations c JOIN GDP_per_cap g ON c.Country_or_Dependency = g.Country_Name\")"
   ]
  },
  {
   "cell_type": "code",
   "execution_count": 72,
   "metadata": {},
   "outputs": [],
   "source": [
    "#sqlit(\"SELECT Country_or_Dependency, Urban_Pop_Pct FROM country_populations WHERE Urban_Pop_Pct = 'N.A.' GROUP BY country_or_dependency\")"
   ]
  },
  {
   "cell_type": "code",
   "execution_count": 73,
   "metadata": {},
   "outputs": [],
   "source": [
    "#sqlit(\"SELECT Country_Name, Country_Code, AVG(Value) as GDP_Per_Cap FROM GDP_per_cap GROUP BY Country_Name, Country_Code\")"
   ]
  },
  {
   "cell_type": "code",
   "execution_count": 74,
   "metadata": {},
   "outputs": [],
   "source": [
    "#sqlit(\"SELECT g.Country_Code as Code, c.Country_or_Dependency as Country, c.Population_2020 as Population, c.Urban_Pop_Pct as Urban_Pop, g.GDP_Per_Cap FROM country_populations c JOIN (SELECT Country_Name, Country_Code, AVG(Value) as GDP_Per_Cap FROM GDP_per_cap GROUP BY Country_Name, Country_Code) g ON c.Country_or_Dependency = g.Country_Name\")"
   ]
  },
  {
   "cell_type": "code",
   "execution_count": 75,
   "metadata": {},
   "outputs": [],
   "source": [
    "Countries = sqlit(\"SELECT g.Country_Code as Code, c.Country_or_Dependency as Country, c.Population_2020 as Population, c.Urban_Pop_Pct as Urban_Pop, g.GDP_Per_Cap FROM country_populations c JOIN (SELECT Country_Name, Country_Code, AVG(Value) as GDP_Per_Cap FROM GDP_per_cap GROUP BY Country_Name, Country_Code) g ON c.Country_or_Dependency = g.Country_Name\")"
   ]
  },
  {
   "cell_type": "code",
   "execution_count": 76,
   "metadata": {},
   "outputs": [],
   "source": [
    "#Countries.info()"
   ]
  },
  {
   "cell_type": "code",
   "execution_count": 77,
   "metadata": {},
   "outputs": [],
   "source": [
    "#athletes table w/o join#sqlit(\"SELECT ID, Name, Sex, Team, Games, Sport, Event, Medal FROM athlete_data\")"
   ]
  },
  {
   "cell_type": "code",
   "execution_count": 78,
   "metadata": {},
   "outputs": [],
   "source": [
    "#athlete_data['Team'].str.contains('.*[0-9].*')"
   ]
  },
  {
   "cell_type": "code",
   "execution_count": 79,
   "metadata": {},
   "outputs": [],
   "source": [
    "#athlete_data[athlete_data['Team'].str.contains('.*[0-9].*')]"
   ]
  },
  {
   "cell_type": "code",
   "execution_count": 80,
   "metadata": {},
   "outputs": [],
   "source": [
    "#athlete_data['Team'].str.split('-|/', expand = True)"
   ]
  },
  {
   "cell_type": "code",
   "execution_count": 81,
   "metadata": {},
   "outputs": [],
   "source": [
    "country_split = athlete_data['Team'].str.split('-|/', expand = True)"
   ]
  },
  {
   "cell_type": "code",
   "execution_count": 82,
   "metadata": {},
   "outputs": [],
   "source": [
    "#country_split[0]"
   ]
  },
  {
   "cell_type": "code",
   "execution_count": 83,
   "metadata": {},
   "outputs": [],
   "source": [
    "athlete_data['Country'] = country_split[0]"
   ]
  },
  {
   "cell_type": "code",
   "execution_count": 84,
   "metadata": {},
   "outputs": [],
   "source": [
    "#sqlit('SELECT Name, Country FROM athlete_data Limit 10')"
   ]
  },
  {
   "cell_type": "code",
   "execution_count": 85,
   "metadata": {},
   "outputs": [],
   "source": [
    "#athlete_data[athlete_data['Country'].str.contains(\".*[^A-Za-z ()'].*\")]"
   ]
  },
  {
   "cell_type": "code",
   "execution_count": 86,
   "metadata": {},
   "outputs": [],
   "source": [
    "#athlete_data[athlete_data['Country'].str.contains('Congo')]"
   ]
  },
  {
   "cell_type": "code",
   "execution_count": 87,
   "metadata": {},
   "outputs": [],
   "source": [
    "#Congo_athletes = athlete_data[athlete_data['Country'].str.contains('Congo')]"
   ]
  },
  {
   "cell_type": "code",
   "execution_count": 88,
   "metadata": {},
   "outputs": [],
   "source": [
    "#sqlit('SELECT Country, COUNT(*) FROM Congo_athletes GROUP BY Country')"
   ]
  },
  {
   "cell_type": "code",
   "execution_count": 89,
   "metadata": {},
   "outputs": [],
   "source": [
    "#Countries[Countries['Country'].str.contains('Congo')]"
   ]
  },
  {
   "cell_type": "code",
   "execution_count": 90,
   "metadata": {},
   "outputs": [],
   "source": [
    "#country_populations[country_populations['Country_or_Dependency'].str.contains('Congo')]"
   ]
  },
  {
   "cell_type": "code",
   "execution_count": 91,
   "metadata": {},
   "outputs": [],
   "source": [
    "#GDP_per_cap[GDP_per_cap['Country_Name'].str.contains('Congo')]"
   ]
  },
  {
   "cell_type": "code",
   "execution_count": 92,
   "metadata": {},
   "outputs": [],
   "source": [
    "#sqlit('SELECT Country, COUNT(*) FROM athlete_data WHERE Country LIKE \"%)%\" GROUP BY Country')"
   ]
  },
  {
   "cell_type": "code",
   "execution_count": 93,
   "metadata": {},
   "outputs": [],
   "source": [
    "#sqlit('SELECT Country, COUNT(*) FROM athlete_data WHERE Country LIKE \"%\\'%\" GROUP BY Country')"
   ]
  },
  {
   "cell_type": "code",
   "execution_count": 94,
   "metadata": {},
   "outputs": [],
   "source": [
    "#GDP_per_cap[GDP_per_cap['Country_Name'].str.contains('Cote')].head()"
   ]
  },
  {
   "cell_type": "code",
   "execution_count": 95,
   "metadata": {
    "scrolled": true
   },
   "outputs": [],
   "source": [
    "#country_populations[country_populations['Country_or_Dependency'].str.contains('v')].head()"
   ]
  },
  {
   "cell_type": "code",
   "execution_count": 96,
   "metadata": {},
   "outputs": [],
   "source": [
    "#Countries[Countries['Country'].str.contains('Cote')]"
   ]
  },
  {
   "cell_type": "code",
   "execution_count": 97,
   "metadata": {},
   "outputs": [],
   "source": [
    "#Countries[Countries['Country'].str.contains('Kingdom')]"
   ]
  },
  {
   "cell_type": "code",
   "execution_count": 98,
   "metadata": {},
   "outputs": [],
   "source": [
    "#sqlit('SELECT Country, COUNT(*) FROM athlete_data WHERE Country = \"Great Britain\" GROUP BY Country')"
   ]
  },
  {
   "cell_type": "code",
   "execution_count": 99,
   "metadata": {},
   "outputs": [],
   "source": [
    "#Countries[Countries['Country'].str.contains('Netherlands')]"
   ]
  },
  {
   "cell_type": "code",
   "execution_count": 100,
   "metadata": {},
   "outputs": [],
   "source": [
    "#Athletes after JOIN #sqlit(\"SELECT a.ID, a.Name, a.Sex, a.Country, a.Games, a.Sport, a.Event, a.Medal FROM athlete_data a JOIN Countries c ON a.Country = c.Country\")"
   ]
  },
  {
   "cell_type": "code",
   "execution_count": 101,
   "metadata": {},
   "outputs": [],
   "source": [
    "#Countries[Countries['Country'].str.contains('Korea')]"
   ]
  },
  {
   "cell_type": "code",
   "execution_count": 102,
   "metadata": {},
   "outputs": [],
   "source": [
    "#country_populations[country_populations['Country_or_Dependency'].str.contains('Korea')].head()"
   ]
  },
  {
   "cell_type": "code",
   "execution_count": 103,
   "metadata": {},
   "outputs": [],
   "source": [
    "#GDP_per_cap[GDP_per_cap['Country_Name'].str.contains('Korea')].head()"
   ]
  },
  {
   "cell_type": "code",
   "execution_count": 104,
   "metadata": {},
   "outputs": [],
   "source": [
    "#athlete_data[athlete_data['Country'].str.contains('Korea')]"
   ]
  },
  {
   "cell_type": "code",
   "execution_count": 105,
   "metadata": {},
   "outputs": [],
   "source": [
    "#sqlit('SELECT Country_Name FROM GDP_per_cap WHERE Country_Name LIKE \"%Korea%\" GROUP BY Country_Name')"
   ]
  },
  {
   "cell_type": "code",
   "execution_count": 106,
   "metadata": {},
   "outputs": [],
   "source": [
    "#sqlit(\"SELECT ID, Name, Sex, NOC, Team, Country, Games, Sport, Event, Medal FROM athlete_data WHERE Country = 'East Germany' or Country = 'West Germany'\")"
   ]
  },
  {
   "cell_type": "code",
   "execution_count": 107,
   "metadata": {},
   "outputs": [],
   "source": [
    "#GDP_per_cap[GDP_per_cap['Country_Name'].str.contains('Tai Wan')].head()"
   ]
  },
  {
   "cell_type": "code",
   "execution_count": 108,
   "metadata": {},
   "outputs": [],
   "source": [
    "athlete_data.loc[athlete_data['NOC'] == 'GDR', 'Country'] = 'Germany'"
   ]
  },
  {
   "cell_type": "code",
   "execution_count": 109,
   "metadata": {},
   "outputs": [],
   "source": [
    "athlete_data.loc[athlete_data['NOC'] == 'FRG', 'Country'] = 'Germany'"
   ]
  },
  {
   "cell_type": "code",
   "execution_count": 110,
   "metadata": {},
   "outputs": [],
   "source": [
    "#Countries[Countries['Country'].str.contains('Soviet')]"
   ]
  },
  {
   "cell_type": "code",
   "execution_count": 111,
   "metadata": {},
   "outputs": [],
   "source": [
    "#GDP_per_cap[GDP_per_cap['Country_Name'].str.contains('Russia')]"
   ]
  },
  {
   "cell_type": "code",
   "execution_count": 112,
   "metadata": {},
   "outputs": [],
   "source": [
    "#country_populations[country_populations['Country_or_Dependency'].str.contains('Soviet')]"
   ]
  },
  {
   "cell_type": "code",
   "execution_count": 113,
   "metadata": {},
   "outputs": [],
   "source": [
    "athlete_data.loc[athlete_data['NOC'] == 'URS', 'Country'] = 'Russia'"
   ]
  },
  {
   "cell_type": "code",
   "execution_count": 114,
   "metadata": {},
   "outputs": [],
   "source": [
    "athlete_data.loc[athlete_data['NOC'] == 'TCH', 'Country'] = 'Czech Republic'"
   ]
  },
  {
   "cell_type": "code",
   "execution_count": 115,
   "metadata": {},
   "outputs": [],
   "source": [
    "#sqlit(\"SELECT a.ID, a.Name, a.Sex, a.Country, a.Games, a.Sport, a.Event, a.Medal FROM athlete_data a JOIN Countries c ON a.Country = c.Country\")"
   ]
  },
  {
   "cell_type": "code",
   "execution_count": 116,
   "metadata": {},
   "outputs": [],
   "source": [
    "#sqlit(\"SELECT Country, COUNT(*) FROM athlete_data GROUP BY Country ORDER BY COUNT(*) ASC\")"
   ]
  },
  {
   "cell_type": "code",
   "execution_count": 117,
   "metadata": {},
   "outputs": [],
   "source": [
    "#sqlit(\"SELECT ID, Name, Sex, NOC, Team, Country, Games, Sport, Event, Medal FROM athlete_data WHERE NOC = 'YUG'\")"
   ]
  },
  {
   "cell_type": "code",
   "execution_count": 118,
   "metadata": {},
   "outputs": [],
   "source": [
    "#GDP_per_cap[GDP_per_cap['Country_Name'].str.contains('Yugo')]"
   ]
  },
  {
   "cell_type": "code",
   "execution_count": 119,
   "metadata": {},
   "outputs": [],
   "source": [
    "#country_populations[country_populations['Country_or_Dependency'].str.contains('Yugo')]"
   ]
  },
  {
   "cell_type": "code",
   "execution_count": 120,
   "metadata": {},
   "outputs": [],
   "source": [
    "#GDP_per_cap[GDP_per_cap['Country_Name'].str.contains('Czecho')].head()"
   ]
  },
  {
   "cell_type": "code",
   "execution_count": 121,
   "metadata": {},
   "outputs": [],
   "source": [
    "#country_populations[country_populations['Country_or_Dependency'].str.contains('Czech')]"
   ]
  },
  {
   "cell_type": "code",
   "execution_count": 122,
   "metadata": {},
   "outputs": [],
   "source": [
    "#athlete_data[athlete_data['Country'].str.contains('Czech')]"
   ]
  },
  {
   "cell_type": "code",
   "execution_count": 123,
   "metadata": {},
   "outputs": [],
   "source": [
    "#Countries[Countries['Country'].str.contains('Czech')]"
   ]
  },
  {
   "cell_type": "code",
   "execution_count": 124,
   "metadata": {},
   "outputs": [],
   "source": [
    "Athletes = sqlit(\"SELECT a.ID, a.Name, a.Sex, a.Country, a.Games, a.Sport, a.Event, a.Medal FROM athlete_data a JOIN Countries c ON a.Country = c.Country\")"
   ]
  },
  {
   "cell_type": "code",
   "execution_count": 125,
   "metadata": {},
   "outputs": [
    {
     "name": "stdout",
     "output_type": "stream",
     "text": [
      "<class 'pandas.core.frame.DataFrame'>\n",
      "RangeIndex: 257728 entries, 0 to 257727\n",
      "Data columns (total 8 columns):\n",
      " #   Column   Non-Null Count   Dtype \n",
      "---  ------   --------------   ----- \n",
      " 0   ID       257728 non-null  int64 \n",
      " 1   Name     257728 non-null  object\n",
      " 2   Sex      257728 non-null  object\n",
      " 3   Country  257728 non-null  object\n",
      " 4   Games    257728 non-null  object\n",
      " 5   Sport    257728 non-null  object\n",
      " 6   Event    257728 non-null  object\n",
      " 7   Medal    38659 non-null   object\n",
      "dtypes: int64(1), object(7)\n",
      "memory usage: 15.7+ MB\n"
     ]
    }
   ],
   "source": [
    "Athletes.info()"
   ]
  },
  {
   "cell_type": "code",
   "execution_count": 126,
   "metadata": {},
   "outputs": [],
   "source": [
    "athletes_per_country = sqlit(\"SELECT Country, COUNT(*) as total_athletes FROM Athletes GROUP BY Country\")"
   ]
  },
  {
   "cell_type": "code",
   "execution_count": 127,
   "metadata": {},
   "outputs": [],
   "source": [
    "#Countries.info()"
   ]
  },
  {
   "cell_type": "code",
   "execution_count": 128,
   "metadata": {},
   "outputs": [],
   "source": [
    "#sqlit('SELECT games, year, season, city FROM athlete_data GROUP BY games')"
   ]
  },
  {
   "cell_type": "code",
   "execution_count": 129,
   "metadata": {},
   "outputs": [],
   "source": [
    "Events = sqlit('SELECT games, year, season, city FROM athlete_data GROUP BY games')"
   ]
  },
  {
   "cell_type": "code",
   "execution_count": 130,
   "metadata": {},
   "outputs": [],
   "source": [
    "#Events.info()"
   ]
  },
  {
   "cell_type": "code",
   "execution_count": 131,
   "metadata": {},
   "outputs": [],
   "source": [
    "#sqlit(\"SELECT * FROM Urban_Pct WHERE Country = 'Ukraine'\")"
   ]
  },
  {
   "cell_type": "code",
   "execution_count": 132,
   "metadata": {},
   "outputs": [],
   "source": [
    "#sqlit(\"SELECT * FROM Countries LIMIT 20\")"
   ]
  },
  {
   "cell_type": "code",
   "execution_count": 133,
   "metadata": {},
   "outputs": [],
   "source": [
    "#Gold Medals by Country#sqlit(\"SELECT Country, Count(*) as Gold_Medals FROM Athletes WHERE Medal = 'Gold' GROUP BY Country ORDER BY Count(*) DESC\")"
   ]
  },
  {
   "cell_type": "code",
   "execution_count": 134,
   "metadata": {},
   "outputs": [],
   "source": [
    "#sqlit(\"SELECT Country, Count(*) as All_Medals FROM Athletes WHERE Medal != 'None' GROUP BY Country ORDER BY Count(*) DESC\")"
   ]
  },
  {
   "cell_type": "code",
   "execution_count": 135,
   "metadata": {},
   "outputs": [],
   "source": [
    "Gold_By_Country = sqlit(\"SELECT Country, Count(*) as Gold_Medals FROM Athletes WHERE Medal = 'Gold' GROUP BY Country ORDER BY Count(*) DESC\")"
   ]
  },
  {
   "cell_type": "code",
   "execution_count": 136,
   "metadata": {},
   "outputs": [],
   "source": [
    "Gold_By_Country['Quartile_Rank'] = pd.qcut(Gold_By_Country['Gold_Medals'], q = 4, labels = False)"
   ]
  },
  {
   "cell_type": "code",
   "execution_count": 137,
   "metadata": {},
   "outputs": [],
   "source": [
    "#sqlit('SELECT * FROM Gold_By_Country')"
   ]
  },
  {
   "cell_type": "code",
   "execution_count": 138,
   "metadata": {},
   "outputs": [],
   "source": [
    "#sqlit('SELECT Quartile_Rank, SUM(Gold_Medals) as Golds FROM Gold_By_Country GROUP BY Quartile_Rank')"
   ]
  },
  {
   "cell_type": "code",
   "execution_count": 139,
   "metadata": {},
   "outputs": [],
   "source": [
    "Gold_By_Quartile = sqlit('SELECT Quartile_Rank, SUM(Gold_Medals) as Golds FROM Gold_By_Country GROUP BY Quartile_Rank')"
   ]
  },
  {
   "cell_type": "code",
   "execution_count": 140,
   "metadata": {},
   "outputs": [],
   "source": [
    "#Gold_By_Quartile.plot(kind = 'bar', x = 'Quartile_Rank', y = 'Golds')"
   ]
  },
  {
   "cell_type": "code",
   "execution_count": 141,
   "metadata": {},
   "outputs": [],
   "source": [
    "Medals_By_Country = sqlit(\"SELECT Country, Count(*) as All_Medals FROM Athletes WHERE Medal != 'None' GROUP BY Country ORDER BY Count(*) DESC\")"
   ]
  },
  {
   "cell_type": "code",
   "execution_count": 142,
   "metadata": {},
   "outputs": [],
   "source": [
    "Medals_By_Country['Quartile_Rank'] = pd.qcut(Medals_By_Country['All_Medals'], q = 4, labels = False)"
   ]
  },
  {
   "cell_type": "code",
   "execution_count": 143,
   "metadata": {},
   "outputs": [],
   "source": [
    "#sqlit('SELECT * FROM Medals_By_Country')"
   ]
  },
  {
   "cell_type": "code",
   "execution_count": 144,
   "metadata": {},
   "outputs": [],
   "source": [
    "Medals_By_Quartile = sqlit('SELECT Quartile_Rank, SUM(All_Medals) as Medals FROM Medals_By_Country GROUP BY Quartile_Rank')"
   ]
  },
  {
   "cell_type": "code",
   "execution_count": 145,
   "metadata": {},
   "outputs": [],
   "source": [
    "#sqlit('SELECT * FROM Medals_By_Quartile')"
   ]
  },
  {
   "cell_type": "code",
   "execution_count": 146,
   "metadata": {},
   "outputs": [],
   "source": [
    "#Medals_By_Quartile.plot(kind = 'bar', x = 'Quartile_Rank', y = 'Medals')"
   ]
  },
  {
   "cell_type": "code",
   "execution_count": 147,
   "metadata": {},
   "outputs": [
    {
     "name": "stdout",
     "output_type": "stream",
     "text": [
      "<class 'pandas.core.frame.DataFrame'>\n",
      "RangeIndex: 186 entries, 0 to 185\n",
      "Data columns (total 5 columns):\n",
      " #   Column       Non-Null Count  Dtype  \n",
      "---  ------       --------------  -----  \n",
      " 0   Code         186 non-null    object \n",
      " 1   Country      186 non-null    object \n",
      " 2   Population   186 non-null    int64  \n",
      " 3   Urban_Pop    186 non-null    float64\n",
      " 4   GDP_Per_Cap  186 non-null    float64\n",
      "dtypes: float64(2), int64(1), object(2)\n",
      "memory usage: 7.4+ KB\n"
     ]
    }
   ],
   "source": [
    "Countries.info()"
   ]
  },
  {
   "cell_type": "code",
   "execution_count": 148,
   "metadata": {},
   "outputs": [],
   "source": [
    "#sqlit('SELECT c.Country, c.Population, c.Urban_Pop, c.GDP_Per_Cap, g.Gold_Medals, g.Quartile_Rank as Gold_Quartile, m.All_Medals, m.Quartile_Rank as Medals_Quartile FROM Countries c JOIN Gold_By_Country g on c.Country = g.Country JOIN Medals_By_Country m on c.Country = m.Country ORDER BY Population DESC')"
   ]
  },
  {
   "cell_type": "code",
   "execution_count": 149,
   "metadata": {},
   "outputs": [],
   "source": [
    "Indicators_and_Medals = sqlit('SELECT c.Country, c.Population, c.Urban_Pop, c.GDP_Per_Cap, g.Gold_Medals, g.Quartile_Rank as Gold_Quartile, m.All_Medals, m.Quartile_Rank as Medals_Quartile FROM Countries c JOIN Gold_By_Country g on c.Country = g.Country JOIN Medals_By_Country m on c.Country = m.Country ORDER BY Population DESC')"
   ]
  },
  {
   "cell_type": "code",
   "execution_count": 150,
   "metadata": {},
   "outputs": [],
   "source": [
    "#Indicators_and_Medals.plot(kind = 'scatter', x = 'Population', y = 'Gold_Medals')"
   ]
  },
  {
   "cell_type": "code",
   "execution_count": 151,
   "metadata": {},
   "outputs": [],
   "source": [
    "#plt.scatter(Indicators_and_Medals['Population'],Indicators_and_Medals['Gold_Medals'])\n",
    "#plt.grid()\n",
    "#plt.xscale(\"log\")\n",
    "#plt.yscale(\"log\")\n",
    "#plt.title(\"Gold Medals and Population\")"
   ]
  },
  {
   "cell_type": "code",
   "execution_count": 152,
   "metadata": {},
   "outputs": [],
   "source": [
    "Indicators_and_Medals['Population_Quartile'] = pd.qcut(Indicators_and_Medals['Population'], q = 4, labels = False)"
   ]
  },
  {
   "cell_type": "code",
   "execution_count": 153,
   "metadata": {},
   "outputs": [],
   "source": [
    "#sqlit('SELECT * FROM Indicators_and_Medals')"
   ]
  },
  {
   "cell_type": "code",
   "execution_count": 154,
   "metadata": {},
   "outputs": [
    {
     "data": {
      "text/html": [
       "<div>\n",
       "<style scoped>\n",
       "    .dataframe tbody tr th:only-of-type {\n",
       "        vertical-align: middle;\n",
       "    }\n",
       "\n",
       "    .dataframe tbody tr th {\n",
       "        vertical-align: top;\n",
       "    }\n",
       "\n",
       "    .dataframe thead th {\n",
       "        text-align: right;\n",
       "    }\n",
       "</style>\n",
       "<table border=\"1\" class=\"dataframe\">\n",
       "  <thead>\n",
       "    <tr style=\"text-align: right;\">\n",
       "      <th></th>\n",
       "      <th>Population_Quartile</th>\n",
       "      <th>Total_Golds</th>\n",
       "    </tr>\n",
       "  </thead>\n",
       "  <tbody>\n",
       "    <tr>\n",
       "      <th>0</th>\n",
       "      <td>0</td>\n",
       "      <td>678</td>\n",
       "    </tr>\n",
       "    <tr>\n",
       "      <th>1</th>\n",
       "      <td>1</td>\n",
       "      <td>2133</td>\n",
       "    </tr>\n",
       "    <tr>\n",
       "      <th>2</th>\n",
       "      <td>2</td>\n",
       "      <td>1713</td>\n",
       "    </tr>\n",
       "    <tr>\n",
       "      <th>3</th>\n",
       "      <td>3</td>\n",
       "      <td>8479</td>\n",
       "    </tr>\n",
       "  </tbody>\n",
       "</table>\n",
       "</div>"
      ],
      "text/plain": [
       "   Population_Quartile  Total_Golds\n",
       "0                    0          678\n",
       "1                    1         2133\n",
       "2                    2         1713\n",
       "3                    3         8479"
      ]
     },
     "execution_count": 154,
     "metadata": {},
     "output_type": "execute_result"
    }
   ],
   "source": [
    "sqlit(\"SELECT Population_Quartile, SUM(Gold_Medals) as Total_Golds FROM Indicators_and_Medals GROUP BY Population_Quartile\")"
   ]
  },
  {
   "cell_type": "code",
   "execution_count": 155,
   "metadata": {},
   "outputs": [
    {
     "data": {
      "text/plain": [
       "Text(0.5, 1.0, 'All Medals and Population')"
      ]
     },
     "execution_count": 155,
     "metadata": {},
     "output_type": "execute_result"
    },
    {
     "data": {
      "image/png": "[encoded data removed]",
      "text/plain": [
       "<Figure size 432x288 with 1 Axes>"
      ]
     },
     "metadata": {
      "needs_background": "light"
     },
     "output_type": "display_data"
    }
   ],
   "source": [
    "plt.scatter(Indicators_and_Medals['Population'],Indicators_and_Medals['All_Medals'])\n",
    "plt.grid()\n",
    "plt.xscale(\"log\")\n",
    "plt.yscale(\"log\")\n",
    "plt.title(\"All Medals and Population\")"
   ]
  },
  {
   "cell_type": "code",
   "execution_count": 156,
   "metadata": {},
   "outputs": [],
   "source": [
    "Medals_by_Pop_Quartile = sqlit(\"SELECT Population_Quartile, SUM(Gold_Medals) as Gold_Medals, SUM(All_Medals) as Total_Medals FROM Indicators_and_Medals GROUP BY Population_Quartile\")"
   ]
  },
  {
   "cell_type": "code",
   "execution_count": 157,
   "metadata": {},
   "outputs": [
    {
     "data": {
      "image/png": "[encoded data removed]",
      "text/plain": [
       "<Figure size 432x288 with 1 Axes>"
      ]
     },
     "metadata": {
      "needs_background": "light"
     },
     "output_type": "display_data"
    }
   ],
   "source": [
    "plt.bar(Medals_by_Pop_Quartile['Population_Quartile'],Medals_by_Pop_Quartile['Gold_Medals'])\n",
    "plt.title(\"Gold Medals and Population Quartiles\")\n",
    "plt.tick_params(bottom=False, labelbottom= False)"
   ]
  },
  {
   "cell_type": "code",
   "execution_count": 158,
   "metadata": {},
   "outputs": [
    {
     "data": {
      "image/png": "[encoded data removed]",
      "text/plain": [
       "<Figure size 432x288 with 1 Axes>"
      ]
     },
     "metadata": {
      "needs_background": "light"
     },
     "output_type": "display_data"
    }
   ],
   "source": [
    "plt.bar(Medals_by_Pop_Quartile['Population_Quartile'],Medals_by_Pop_Quartile['Total_Medals'])\n",
    "plt.title(\"Total Medals and Population Quartiles\")\n",
    "plt.tick_params(bottom=False, labelbottom= False)"
   ]
  },
  {
   "cell_type": "code",
   "execution_count": 159,
   "metadata": {},
   "outputs": [],
   "source": [
    "#plt.scatter(Indicators_and_Medals['GDP_Per_Cap'],Indicators_and_Medals['Gold_Medals'])\n",
    "#plt.grid()\n",
    "#plt.xscale(\"log\")\n",
    "#plt.yscale(\"log\")\n",
    "#plt.title(\"Gold Medals and GDP \")"
   ]
  },
  {
   "cell_type": "code",
   "execution_count": 160,
   "metadata": {},
   "outputs": [],
   "source": [
    "Indicators_and_Medals['GDP_Quartile'] = pd.qcut(Indicators_and_Medals['GDP_Per_Cap'], q = 4, labels = False)"
   ]
  },
  {
   "cell_type": "code",
   "execution_count": 161,
   "metadata": {},
   "outputs": [],
   "source": [
    "#sqlit('SELECT * FROM Indicators_and_Medals')"
   ]
  },
  {
   "cell_type": "code",
   "execution_count": 162,
   "metadata": {},
   "outputs": [],
   "source": [
    "Indicators_and_Medals['Golds_per_cap'] = Indicators_and_Medals['Gold_Medals']/Indicators_and_Medals['Population']"
   ]
  },
  {
   "cell_type": "code",
   "execution_count": 163,
   "metadata": {},
   "outputs": [
    {
     "data": {
      "text/html": [
       "<div>\n",
       "<style scoped>\n",
       "    .dataframe tbody tr th:only-of-type {\n",
       "        vertical-align: middle;\n",
       "    }\n",
       "\n",
       "    .dataframe tbody tr th {\n",
       "        vertical-align: top;\n",
       "    }\n",
       "\n",
       "    .dataframe thead th {\n",
       "        text-align: right;\n",
       "    }\n",
       "</style>\n",
       "<table border=\"1\" class=\"dataframe\">\n",
       "  <thead>\n",
       "    <tr style=\"text-align: right;\">\n",
       "      <th></th>\n",
       "      <th>Golds_per_cap*1000000</th>\n",
       "      <th>Country</th>\n",
       "    </tr>\n",
       "  </thead>\n",
       "  <tbody>\n",
       "    <tr>\n",
       "      <th>0</th>\n",
       "      <td>69.631289</td>\n",
       "      <td>Norway</td>\n",
       "    </tr>\n",
       "    <tr>\n",
       "      <th>1</th>\n",
       "      <td>52.428762</td>\n",
       "      <td>Liechtenstein</td>\n",
       "    </tr>\n",
       "    <tr>\n",
       "      <th>2</th>\n",
       "      <td>47.377741</td>\n",
       "      <td>Sweden</td>\n",
       "    </tr>\n",
       "    <tr>\n",
       "      <th>3</th>\n",
       "      <td>44.739101</td>\n",
       "      <td>Hungary</td>\n",
       "    </tr>\n",
       "    <tr>\n",
       "      <th>4</th>\n",
       "      <td>35.725647</td>\n",
       "      <td>Finland</td>\n",
       "    </tr>\n",
       "    <tr>\n",
       "      <th>...</th>\n",
       "      <td>...</td>\n",
       "      <td>...</td>\n",
       "    </tr>\n",
       "    <tr>\n",
       "      <th>84</th>\n",
       "      <td>0.037755</td>\n",
       "      <td>Cote d'Ivoire</td>\n",
       "    </tr>\n",
       "    <tr>\n",
       "      <th>85</th>\n",
       "      <td>0.034217</td>\n",
       "      <td>Nepal</td>\n",
       "    </tr>\n",
       "    <tr>\n",
       "      <th>86</th>\n",
       "      <td>0.031848</td>\n",
       "      <td>Mozambique</td>\n",
       "    </tr>\n",
       "    <tr>\n",
       "      <th>87</th>\n",
       "      <td>0.030257</td>\n",
       "      <td>Peru</td>\n",
       "    </tr>\n",
       "    <tr>\n",
       "      <th>88</th>\n",
       "      <td>0.010257</td>\n",
       "      <td>Vietnam</td>\n",
       "    </tr>\n",
       "  </tbody>\n",
       "</table>\n",
       "<p>89 rows × 2 columns</p>\n",
       "</div>"
      ],
      "text/plain": [
       "    Golds_per_cap*1000000        Country\n",
       "0               69.631289         Norway\n",
       "1               52.428762  Liechtenstein\n",
       "2               47.377741         Sweden\n",
       "3               44.739101        Hungary\n",
       "4               35.725647        Finland\n",
       "..                    ...            ...\n",
       "84               0.037755  Cote d'Ivoire\n",
       "85               0.034217          Nepal\n",
       "86               0.031848     Mozambique\n",
       "87               0.030257           Peru\n",
       "88               0.010257        Vietnam\n",
       "\n",
       "[89 rows x 2 columns]"
      ]
     },
     "execution_count": 163,
     "metadata": {},
     "output_type": "execute_result"
    }
   ],
   "source": [
    "sqlit('SELECT Golds_per_cap*1000000, Country FROM Indicators_and_Medals Order BY Golds_per_cap DESC')"
   ]
  },
  {
   "cell_type": "code",
   "execution_count": 164,
   "metadata": {},
   "outputs": [],
   "source": [
    "Indicators_and_Medals['Medals_per_cap'] = Indicators_and_Medals['All_Medals']/Indicators_and_Medals['Population']"
   ]
  },
  {
   "cell_type": "code",
   "execution_count": 165,
   "metadata": {},
   "outputs": [
    {
     "data": {
      "text/html": [
       "<div>\n",
       "<style scoped>\n",
       "    .dataframe tbody tr th:only-of-type {\n",
       "        vertical-align: middle;\n",
       "    }\n",
       "\n",
       "    .dataframe tbody tr th {\n",
       "        vertical-align: top;\n",
       "    }\n",
       "\n",
       "    .dataframe thead th {\n",
       "        text-align: right;\n",
       "    }\n",
       "</style>\n",
       "<table border=\"1\" class=\"dataframe\">\n",
       "  <thead>\n",
       "    <tr style=\"text-align: right;\">\n",
       "      <th></th>\n",
       "      <th>Medals_per_cap*1000000</th>\n",
       "      <th>Country</th>\n",
       "    </tr>\n",
       "  </thead>\n",
       "  <tbody>\n",
       "    <tr>\n",
       "      <th>0</th>\n",
       "      <td>235.929431</td>\n",
       "      <td>Liechtenstein</td>\n",
       "    </tr>\n",
       "    <tr>\n",
       "      <th>1</th>\n",
       "      <td>190.288682</td>\n",
       "      <td>Norway</td>\n",
       "    </tr>\n",
       "    <tr>\n",
       "      <th>2</th>\n",
       "      <td>162.389302</td>\n",
       "      <td>Finland</td>\n",
       "    </tr>\n",
       "    <tr>\n",
       "      <th>3</th>\n",
       "      <td>151.925282</td>\n",
       "      <td>Sweden</td>\n",
       "    </tr>\n",
       "    <tr>\n",
       "      <th>4</th>\n",
       "      <td>117.543703</td>\n",
       "      <td>Hungary</td>\n",
       "    </tr>\n",
       "    <tr>\n",
       "      <th>...</th>\n",
       "      <td>...</td>\n",
       "      <td>...</td>\n",
       "    </tr>\n",
       "    <tr>\n",
       "      <th>84</th>\n",
       "      <td>0.113067</td>\n",
       "      <td>Ecuador</td>\n",
       "    </tr>\n",
       "    <tr>\n",
       "      <th>85</th>\n",
       "      <td>0.097842</td>\n",
       "      <td>Jordan</td>\n",
       "    </tr>\n",
       "    <tr>\n",
       "      <th>86</th>\n",
       "      <td>0.063697</td>\n",
       "      <td>Mozambique</td>\n",
       "    </tr>\n",
       "    <tr>\n",
       "      <th>87</th>\n",
       "      <td>0.041030</td>\n",
       "      <td>Vietnam</td>\n",
       "    </tr>\n",
       "    <tr>\n",
       "      <th>88</th>\n",
       "      <td>0.034217</td>\n",
       "      <td>Nepal</td>\n",
       "    </tr>\n",
       "  </tbody>\n",
       "</table>\n",
       "<p>89 rows × 2 columns</p>\n",
       "</div>"
      ],
      "text/plain": [
       "    Medals_per_cap*1000000        Country\n",
       "0               235.929431  Liechtenstein\n",
       "1               190.288682         Norway\n",
       "2               162.389302        Finland\n",
       "3               151.925282         Sweden\n",
       "4               117.543703        Hungary\n",
       "..                     ...            ...\n",
       "84                0.113067        Ecuador\n",
       "85                0.097842         Jordan\n",
       "86                0.063697     Mozambique\n",
       "87                0.041030        Vietnam\n",
       "88                0.034217          Nepal\n",
       "\n",
       "[89 rows x 2 columns]"
      ]
     },
     "execution_count": 165,
     "metadata": {},
     "output_type": "execute_result"
    }
   ],
   "source": [
    "sqlit('SELECT Medals_per_cap*1000000, Country FROM Indicators_and_Medals Order BY Medals_per_cap DESC')"
   ]
  },
  {
   "cell_type": "code",
   "execution_count": 166,
   "metadata": {},
   "outputs": [],
   "source": [
    "#plt.scatter(Indicators_and_Medals['GDP_Per_Cap'],Indicators_and_Medals['All_Medals'])\n",
    "#plt.grid()\n",
    "#plt.xscale(\"log\")\n",
    "#plt.yscale(\"log\")\n",
    "#plt.title(\"All Medals and GDP \")"
   ]
  },
  {
   "cell_type": "code",
   "execution_count": 167,
   "metadata": {},
   "outputs": [],
   "source": [
    "Medals_by_GDP_Quartile = sqlit(\"SELECT GDP_Quartile, SUM(Gold_Medals) as Gold_Medals, SUM(All_Medals) as All_Medals FROM Indicators_and_Medals GROUP BY GDP_Quartile\")"
   ]
  },
  {
   "cell_type": "code",
   "execution_count": 168,
   "metadata": {},
   "outputs": [],
   "source": [
    "#Total Medals and GDP Quartiles\n",
    "#plt.bar(Medals_by_GDP_Quartile['GDP_Quartile'],Medals_by_GDP_Quartile['All_Medals'])\n",
    "#plt.title(\"Total Medals and GDP Quartiles\")"
   ]
  },
  {
   "cell_type": "code",
   "execution_count": 169,
   "metadata": {},
   "outputs": [],
   "source": [
    "#Urban Pop and Gold Medals\n",
    "#plt.scatter(Indicators_and_Medals['Urban_Pop'],Indicators_and_Medals['Gold_Medals'])\n",
    "#plt.grid()\n",
    "#plt.xscale(\"log\")\n",
    "#plt.yscale(\"log\")\n",
    "#plt.title(\"Gold Medals and Urbanization\")"
   ]
  },
  {
   "cell_type": "code",
   "execution_count": 170,
   "metadata": {},
   "outputs": [],
   "source": [
    "Indicators_and_Medals['Urb_Pop_Quartile'] = pd.qcut(Indicators_and_Medals['Urban_Pop'], q = 4, labels = False)"
   ]
  },
  {
   "cell_type": "code",
   "execution_count": 171,
   "metadata": {},
   "outputs": [],
   "source": [
    "#sqlit('SELECT * FROM Indicators_and_Medals')"
   ]
  },
  {
   "cell_type": "code",
   "execution_count": 172,
   "metadata": {},
   "outputs": [],
   "source": [
    "Medals_by_Urb_Quartile = sqlit(\"SELECT Urb_Pop_Quartile, SUM(Gold_Medals) as Gold_Medals, SUM(All_Medals) as Total_Medals FROM Indicators_and_Medals GROUP BY Urb_Pop_Quartile\")"
   ]
  },
  {
   "cell_type": "code",
   "execution_count": 173,
   "metadata": {},
   "outputs": [],
   "source": [
    "#Gold Medals and Urb Quartiles\n",
    "#plt.bar(Golds_by_Urb_Quartile['Urb_Pop_Quartile'],Golds_by_Urb_Quartile['Gold_Medals'])\n",
    "#plt.title(\"Gold Medals and Urbanization Quartiles\")"
   ]
  },
  {
   "cell_type": "code",
   "execution_count": 174,
   "metadata": {},
   "outputs": [
    {
     "data": {
      "text/plain": [
       "Text(0.5, 1.0, 'All Medals and Urbanization')"
      ]
     },
     "execution_count": 174,
     "metadata": {},
     "output_type": "execute_result"
    },
    {
     "data": {
      "image/png": "[encoded data removed]",
      "text/plain": [
       "<Figure size 432x288 with 1 Axes>"
      ]
     },
     "metadata": {
      "needs_background": "light"
     },
     "output_type": "display_data"
    }
   ],
   "source": [
    "#Urban Pop and All Medals\n",
    "plt.scatter(Indicators_and_Medals['Urban_Pop'],Indicators_and_Medals['All_Medals'])\n",
    "plt.grid()\n",
    "#plt.xscale(\"log\")\n",
    "plt.yscale(\"log\")\n",
    "plt.title(\"All Medals and Urbanization\")"
   ]
  },
  {
   "cell_type": "code",
   "execution_count": 175,
   "metadata": {},
   "outputs": [
    {
     "data": {
      "image/png": "[encoded data removed]",
      "text/plain": [
       "<Figure size 432x288 with 1 Axes>"
      ]
     },
     "metadata": {
      "needs_background": "light"
     },
     "output_type": "display_data"
    }
   ],
   "source": [
    "#Total Medals and Urb Quartiles\n",
    "plt.bar(Medals_by_Urb_Quartile['Urb_Pop_Quartile'],Medals_by_Urb_Quartile['Total_Medals'])\n",
    "plt.title(\"Total Medals By Urbanization Quartiles\")\n",
    "plt.tick_params(bottom=False, labelbottom= False)"
   ]
  },
  {
   "cell_type": "code",
   "execution_count": 176,
   "metadata": {},
   "outputs": [],
   "source": [
    "#Indicators_and_Medals.info()"
   ]
  },
  {
   "cell_type": "code",
   "execution_count": 177,
   "metadata": {},
   "outputs": [
    {
     "data": {
      "image/png": "[encoded data removed]",
      "text/plain": [
       "<Figure size 432x288 with 1 Axes>"
      ]
     },
     "metadata": {
      "needs_background": "light"
     },
     "output_type": "display_data"
    }
   ],
   "source": [
    "plt.bar(Indicators_and_Medals['Urb_Pop_Quartile'],Indicators_and_Medals['Gold_Medals'])\n",
    "plt.title(\"Total Golds By Urbanization Quartiles\")\n",
    "plt.tick_params(bottom=False, labelbottom= False)"
   ]
  },
  {
   "cell_type": "code",
   "execution_count": 178,
   "metadata": {},
   "outputs": [
    {
     "data": {
      "text/html": [
       "<div>\n",
       "<style scoped>\n",
       "    .dataframe tbody tr th:only-of-type {\n",
       "        vertical-align: middle;\n",
       "    }\n",
       "\n",
       "    .dataframe tbody tr th {\n",
       "        vertical-align: top;\n",
       "    }\n",
       "\n",
       "    .dataframe thead th {\n",
       "        text-align: right;\n",
       "    }\n",
       "</style>\n",
       "<table border=\"1\" class=\"dataframe\">\n",
       "  <thead>\n",
       "    <tr style=\"text-align: right;\">\n",
       "      <th></th>\n",
       "      <th>Country</th>\n",
       "      <th>pop_millions</th>\n",
       "      <th>Gold_Medals</th>\n",
       "      <th>All_Medals</th>\n",
       "    </tr>\n",
       "  </thead>\n",
       "  <tbody>\n",
       "    <tr>\n",
       "      <th>0</th>\n",
       "      <td>United States</td>\n",
       "      <td>331</td>\n",
       "      <td>2638</td>\n",
       "      <td>5637</td>\n",
       "    </tr>\n",
       "    <tr>\n",
       "      <th>1</th>\n",
       "      <td>Russia</td>\n",
       "      <td>145</td>\n",
       "      <td>1472</td>\n",
       "      <td>3661</td>\n",
       "    </tr>\n",
       "    <tr>\n",
       "      <th>2</th>\n",
       "      <td>Germany</td>\n",
       "      <td>83</td>\n",
       "      <td>1301</td>\n",
       "      <td>3756</td>\n",
       "    </tr>\n",
       "    <tr>\n",
       "      <th>3</th>\n",
       "      <td>United Kingdom</td>\n",
       "      <td>67</td>\n",
       "      <td>678</td>\n",
       "      <td>2068</td>\n",
       "    </tr>\n",
       "    <tr>\n",
       "      <th>4</th>\n",
       "      <td>France</td>\n",
       "      <td>65</td>\n",
       "      <td>501</td>\n",
       "      <td>1777</td>\n",
       "    </tr>\n",
       "    <tr>\n",
       "      <th>5</th>\n",
       "      <td>Canada</td>\n",
       "      <td>37</td>\n",
       "      <td>463</td>\n",
       "      <td>1352</td>\n",
       "    </tr>\n",
       "    <tr>\n",
       "      <th>6</th>\n",
       "      <td>Hungary</td>\n",
       "      <td>9</td>\n",
       "      <td>432</td>\n",
       "      <td>1135</td>\n",
       "    </tr>\n",
       "    <tr>\n",
       "      <th>7</th>\n",
       "      <td>Norway</td>\n",
       "      <td>5</td>\n",
       "      <td>378</td>\n",
       "      <td>1033</td>\n",
       "    </tr>\n",
       "    <tr>\n",
       "      <th>8</th>\n",
       "      <td>South Korea</td>\n",
       "      <td>51</td>\n",
       "      <td>221</td>\n",
       "      <td>638</td>\n",
       "    </tr>\n",
       "    <tr>\n",
       "      <th>9</th>\n",
       "      <td>Switzerland</td>\n",
       "      <td>8</td>\n",
       "      <td>175</td>\n",
       "      <td>691</td>\n",
       "    </tr>\n",
       "    <tr>\n",
       "      <th>10</th>\n",
       "      <td>Cuba</td>\n",
       "      <td>11</td>\n",
       "      <td>164</td>\n",
       "      <td>407</td>\n",
       "    </tr>\n",
       "    <tr>\n",
       "      <th>11</th>\n",
       "      <td>Czech Republic</td>\n",
       "      <td>10</td>\n",
       "      <td>123</td>\n",
       "      <td>632</td>\n",
       "    </tr>\n",
       "    <tr>\n",
       "      <th>12</th>\n",
       "      <td>Spain</td>\n",
       "      <td>46</td>\n",
       "      <td>110</td>\n",
       "      <td>489</td>\n",
       "    </tr>\n",
       "    <tr>\n",
       "      <th>13</th>\n",
       "      <td>Bulgaria</td>\n",
       "      <td>6</td>\n",
       "      <td>54</td>\n",
       "      <td>342</td>\n",
       "    </tr>\n",
       "    <tr>\n",
       "      <th>14</th>\n",
       "      <td>Turkey</td>\n",
       "      <td>84</td>\n",
       "      <td>40</td>\n",
       "      <td>95</td>\n",
       "    </tr>\n",
       "    <tr>\n",
       "      <th>15</th>\n",
       "      <td>Belarus</td>\n",
       "      <td>9</td>\n",
       "      <td>24</td>\n",
       "      <td>139</td>\n",
       "    </tr>\n",
       "    <tr>\n",
       "      <th>16</th>\n",
       "      <td>Lithuania</td>\n",
       "      <td>2</td>\n",
       "      <td>6</td>\n",
       "      <td>61</td>\n",
       "    </tr>\n",
       "    <tr>\n",
       "      <th>17</th>\n",
       "      <td>Colombia</td>\n",
       "      <td>50</td>\n",
       "      <td>5</td>\n",
       "      <td>27</td>\n",
       "    </tr>\n",
       "    <tr>\n",
       "      <th>18</th>\n",
       "      <td>Algeria</td>\n",
       "      <td>43</td>\n",
       "      <td>5</td>\n",
       "      <td>17</td>\n",
       "    </tr>\n",
       "    <tr>\n",
       "      <th>19</th>\n",
       "      <td>Tunisia</td>\n",
       "      <td>11</td>\n",
       "      <td>3</td>\n",
       "      <td>13</td>\n",
       "    </tr>\n",
       "    <tr>\n",
       "      <th>20</th>\n",
       "      <td>Peru</td>\n",
       "      <td>33</td>\n",
       "      <td>1</td>\n",
       "      <td>15</td>\n",
       "    </tr>\n",
       "    <tr>\n",
       "      <th>21</th>\n",
       "      <td>Costa Rica</td>\n",
       "      <td>5</td>\n",
       "      <td>1</td>\n",
       "      <td>4</td>\n",
       "    </tr>\n",
       "  </tbody>\n",
       "</table>\n",
       "</div>"
      ],
      "text/plain": [
       "           Country  pop_millions  Gold_Medals  All_Medals\n",
       "0    United States           331         2638        5637\n",
       "1           Russia           145         1472        3661\n",
       "2          Germany            83         1301        3756\n",
       "3   United Kingdom            67          678        2068\n",
       "4           France            65          501        1777\n",
       "5           Canada            37          463        1352\n",
       "6          Hungary             9          432        1135\n",
       "7           Norway             5          378        1033\n",
       "8      South Korea            51          221         638\n",
       "9      Switzerland             8          175         691\n",
       "10            Cuba            11          164         407\n",
       "11  Czech Republic            10          123         632\n",
       "12           Spain            46          110         489\n",
       "13        Bulgaria             6           54         342\n",
       "14          Turkey            84           40          95\n",
       "15         Belarus             9           24         139\n",
       "16       Lithuania             2            6          61\n",
       "17        Colombia            50            5          27\n",
       "18         Algeria            43            5          17\n",
       "19         Tunisia            11            3          13\n",
       "20            Peru            33            1          15\n",
       "21      Costa Rica             5            1           4"
      ]
     },
     "execution_count": 178,
     "metadata": {},
     "output_type": "execute_result"
    }
   ],
   "source": [
    "sqlit('SELECT Country, Population/1000000 as pop_millions, Gold_Medals, All_Medals FROM Indicators_and_Medals WHERE Urb_Pop_Quartile = 2 ORDER BY Gold_Medals DESC')"
   ]
  },
  {
   "cell_type": "code",
   "execution_count": 179,
   "metadata": {},
   "outputs": [],
   "source": [
    "Indicators_and_Medals = sqlit(\"SELECT i.*, a.total_athletes FROM Indicators_and_Medals i JOIN athletes_per_country a ON a.Country = i.Country\") "
   ]
  },
  {
   "cell_type": "code",
   "execution_count": 180,
   "metadata": {},
   "outputs": [],
   "source": [
    "#Indicators_and_Medals.head()"
   ]
  },
  {
   "cell_type": "code",
   "execution_count": 181,
   "metadata": {},
   "outputs": [],
   "source": [
    "Indicators_and_Medals['Athletes_per_cap'] = Indicators_and_Medals['total_athletes']/Indicators_and_Medals['Population']"
   ]
  },
  {
   "cell_type": "code",
   "execution_count": 182,
   "metadata": {},
   "outputs": [],
   "source": [
    "#sqlit(\"SELECT Country, Athletes_per_cap*1000000 FROM Indicators_and_Medals ORDER BY Athletes_per_cap DESC\")"
   ]
  },
  {
   "cell_type": "code",
   "execution_count": 183,
   "metadata": {},
   "outputs": [
    {
     "data": {
      "text/html": [
       "<div>\n",
       "<style scoped>\n",
       "    .dataframe tbody tr th:only-of-type {\n",
       "        vertical-align: middle;\n",
       "    }\n",
       "\n",
       "    .dataframe tbody tr th {\n",
       "        vertical-align: top;\n",
       "    }\n",
       "\n",
       "    .dataframe thead th {\n",
       "        text-align: right;\n",
       "    }\n",
       "</style>\n",
       "<table border=\"1\" class=\"dataframe\">\n",
       "  <thead>\n",
       "    <tr style=\"text-align: right;\">\n",
       "      <th></th>\n",
       "      <th>Country</th>\n",
       "      <th>gold_per_100_athletes</th>\n",
       "      <th>medals_per_100_athletes</th>\n",
       "      <th>Athletes_per_cap</th>\n",
       "    </tr>\n",
       "  </thead>\n",
       "  <tbody>\n",
       "    <tr>\n",
       "      <th>0</th>\n",
       "      <td>United States</td>\n",
       "      <td>13</td>\n",
       "      <td>29</td>\n",
       "      <td>0.000057</td>\n",
       "    </tr>\n",
       "    <tr>\n",
       "      <th>1</th>\n",
       "      <td>Russia</td>\n",
       "      <td>13</td>\n",
       "      <td>33</td>\n",
       "      <td>0.000074</td>\n",
       "    </tr>\n",
       "    <tr>\n",
       "      <th>2</th>\n",
       "      <td>India</td>\n",
       "      <td>9</td>\n",
       "      <td>13</td>\n",
       "      <td>0.000001</td>\n",
       "    </tr>\n",
       "    <tr>\n",
       "      <th>3</th>\n",
       "      <td>Germany</td>\n",
       "      <td>8</td>\n",
       "      <td>23</td>\n",
       "      <td>0.000188</td>\n",
       "    </tr>\n",
       "    <tr>\n",
       "      <th>4</th>\n",
       "      <td>Pakistan</td>\n",
       "      <td>7</td>\n",
       "      <td>21</td>\n",
       "      <td>0.000003</td>\n",
       "    </tr>\n",
       "    <tr>\n",
       "      <th>...</th>\n",
       "      <td>...</td>\n",
       "      <td>...</td>\n",
       "      <td>...</td>\n",
       "      <td>...</td>\n",
       "    </tr>\n",
       "    <tr>\n",
       "      <th>84</th>\n",
       "      <td>Slovenia</td>\n",
       "      <td>0</td>\n",
       "      <td>4</td>\n",
       "      <td>0.000534</td>\n",
       "    </tr>\n",
       "    <tr>\n",
       "      <th>85</th>\n",
       "      <td>Latvia</td>\n",
       "      <td>0</td>\n",
       "      <td>3</td>\n",
       "      <td>0.000505</td>\n",
       "    </tr>\n",
       "    <tr>\n",
       "      <th>86</th>\n",
       "      <td>Bahrain</td>\n",
       "      <td>0</td>\n",
       "      <td>2</td>\n",
       "      <td>0.000074</td>\n",
       "    </tr>\n",
       "    <tr>\n",
       "      <th>87</th>\n",
       "      <td>Luxembourg</td>\n",
       "      <td>0</td>\n",
       "      <td>0</td>\n",
       "      <td>0.001587</td>\n",
       "    </tr>\n",
       "    <tr>\n",
       "      <th>88</th>\n",
       "      <td>Liechtenstein</td>\n",
       "      <td>0</td>\n",
       "      <td>2</td>\n",
       "      <td>0.009673</td>\n",
       "    </tr>\n",
       "  </tbody>\n",
       "</table>\n",
       "<p>89 rows × 4 columns</p>\n",
       "</div>"
      ],
      "text/plain": [
       "          Country  gold_per_100_athletes  medals_per_100_athletes  \\\n",
       "0   United States                     13                       29   \n",
       "1          Russia                     13                       33   \n",
       "2           India                      9                       13   \n",
       "3         Germany                      8                       23   \n",
       "4        Pakistan                      7                       21   \n",
       "..            ...                    ...                      ...   \n",
       "84       Slovenia                      0                        4   \n",
       "85         Latvia                      0                        3   \n",
       "86        Bahrain                      0                        2   \n",
       "87     Luxembourg                      0                        0   \n",
       "88  Liechtenstein                      0                        2   \n",
       "\n",
       "    Athletes_per_cap  \n",
       "0           0.000057  \n",
       "1           0.000074  \n",
       "2           0.000001  \n",
       "3           0.000188  \n",
       "4           0.000003  \n",
       "..               ...  \n",
       "84          0.000534  \n",
       "85          0.000505  \n",
       "86          0.000074  \n",
       "87          0.001587  \n",
       "88          0.009673  \n",
       "\n",
       "[89 rows x 4 columns]"
      ]
     },
     "execution_count": 183,
     "metadata": {},
     "output_type": "execute_result"
    }
   ],
   "source": [
    "sqlit(\"SELECT Country, 100*Gold_Medals/total_athletes as gold_per_100_athletes, 100*All_Medals/total_athletes as medals_per_100_athletes, Athletes_per_cap FROM Indicators_and_Medals ORDER BY gold_per_100_athletes DESC\")"
   ]
  },
  {
   "cell_type": "code",
   "execution_count": 184,
   "metadata": {},
   "outputs": [
    {
     "data": {
      "text/html": [
       "<div>\n",
       "<style scoped>\n",
       "    .dataframe tbody tr th:only-of-type {\n",
       "        vertical-align: middle;\n",
       "    }\n",
       "\n",
       "    .dataframe tbody tr th {\n",
       "        vertical-align: top;\n",
       "    }\n",
       "\n",
       "    .dataframe thead th {\n",
       "        text-align: right;\n",
       "    }\n",
       "</style>\n",
       "<table border=\"1\" class=\"dataframe\">\n",
       "  <thead>\n",
       "    <tr style=\"text-align: right;\">\n",
       "      <th></th>\n",
       "      <th>Country</th>\n",
       "      <th>golds_per_100_athletes</th>\n",
       "      <th>medals_per_100_athletes</th>\n",
       "      <th>Athletes_per_cap</th>\n",
       "    </tr>\n",
       "  </thead>\n",
       "  <tbody>\n",
       "    <tr>\n",
       "      <th>0</th>\n",
       "      <td>United States</td>\n",
       "      <td>13</td>\n",
       "      <td>29</td>\n",
       "      <td>0.000057</td>\n",
       "    </tr>\n",
       "    <tr>\n",
       "      <th>1</th>\n",
       "      <td>Russia</td>\n",
       "      <td>13</td>\n",
       "      <td>33</td>\n",
       "      <td>0.000074</td>\n",
       "    </tr>\n",
       "    <tr>\n",
       "      <th>2</th>\n",
       "      <td>India</td>\n",
       "      <td>9</td>\n",
       "      <td>13</td>\n",
       "      <td>0.000001</td>\n",
       "    </tr>\n",
       "    <tr>\n",
       "      <th>3</th>\n",
       "      <td>Germany</td>\n",
       "      <td>8</td>\n",
       "      <td>23</td>\n",
       "      <td>0.000188</td>\n",
       "    </tr>\n",
       "    <tr>\n",
       "      <th>4</th>\n",
       "      <td>Pakistan</td>\n",
       "      <td>7</td>\n",
       "      <td>21</td>\n",
       "      <td>0.000003</td>\n",
       "    </tr>\n",
       "    <tr>\n",
       "      <th>5</th>\n",
       "      <td>Norway</td>\n",
       "      <td>7</td>\n",
       "      <td>20</td>\n",
       "      <td>0.000914</td>\n",
       "    </tr>\n",
       "    <tr>\n",
       "      <th>6</th>\n",
       "      <td>China</td>\n",
       "      <td>6</td>\n",
       "      <td>19</td>\n",
       "      <td>0.000004</td>\n",
       "    </tr>\n",
       "    <tr>\n",
       "      <th>7</th>\n",
       "      <td>Cameroon</td>\n",
       "      <td>6</td>\n",
       "      <td>7</td>\n",
       "      <td>0.000012</td>\n",
       "    </tr>\n",
       "    <tr>\n",
       "      <th>8</th>\n",
       "      <td>Cuba</td>\n",
       "      <td>6</td>\n",
       "      <td>16</td>\n",
       "      <td>0.000218</td>\n",
       "    </tr>\n",
       "    <tr>\n",
       "      <th>9</th>\n",
       "      <td>Hungary</td>\n",
       "      <td>6</td>\n",
       "      <td>17</td>\n",
       "      <td>0.000684</td>\n",
       "    </tr>\n",
       "    <tr>\n",
       "      <th>10</th>\n",
       "      <td>Croatia</td>\n",
       "      <td>6</td>\n",
       "      <td>17</td>\n",
       "      <td>0.000214</td>\n",
       "    </tr>\n",
       "    <tr>\n",
       "      <th>11</th>\n",
       "      <td>Ethiopia</td>\n",
       "      <td>5</td>\n",
       "      <td>14</td>\n",
       "      <td>0.000003</td>\n",
       "    </tr>\n",
       "    <tr>\n",
       "      <th>12</th>\n",
       "      <td>United Kingdom</td>\n",
       "      <td>5</td>\n",
       "      <td>16</td>\n",
       "      <td>0.000180</td>\n",
       "    </tr>\n",
       "    <tr>\n",
       "      <th>13</th>\n",
       "      <td>Italy</td>\n",
       "      <td>5</td>\n",
       "      <td>15</td>\n",
       "      <td>0.000177</td>\n",
       "    </tr>\n",
       "    <tr>\n",
       "      <th>14</th>\n",
       "      <td>Zimbabwe</td>\n",
       "      <td>5</td>\n",
       "      <td>7</td>\n",
       "      <td>0.000021</td>\n",
       "    </tr>\n",
       "    <tr>\n",
       "      <th>15</th>\n",
       "      <td>Sweden</td>\n",
       "      <td>5</td>\n",
       "      <td>18</td>\n",
       "      <td>0.000825</td>\n",
       "    </tr>\n",
       "    <tr>\n",
       "      <th>16</th>\n",
       "      <td>Denmark</td>\n",
       "      <td>5</td>\n",
       "      <td>16</td>\n",
       "      <td>0.000616</td>\n",
       "    </tr>\n",
       "    <tr>\n",
       "      <th>17</th>\n",
       "      <td>Uruguay</td>\n",
       "      <td>5</td>\n",
       "      <td>10</td>\n",
       "      <td>0.000166</td>\n",
       "    </tr>\n",
       "    <tr>\n",
       "      <th>18</th>\n",
       "      <td>Fiji</td>\n",
       "      <td>5</td>\n",
       "      <td>5</td>\n",
       "      <td>0.000258</td>\n",
       "    </tr>\n",
       "    <tr>\n",
       "      <th>19</th>\n",
       "      <td>Kenya</td>\n",
       "      <td>4</td>\n",
       "      <td>13</td>\n",
       "      <td>0.000014</td>\n",
       "    </tr>\n",
       "  </tbody>\n",
       "</table>\n",
       "</div>"
      ],
      "text/plain": [
       "           Country  golds_per_100_athletes  medals_per_100_athletes  \\\n",
       "0    United States                      13                       29   \n",
       "1           Russia                      13                       33   \n",
       "2            India                       9                       13   \n",
       "3          Germany                       8                       23   \n",
       "4         Pakistan                       7                       21   \n",
       "5           Norway                       7                       20   \n",
       "6            China                       6                       19   \n",
       "7         Cameroon                       6                        7   \n",
       "8             Cuba                       6                       16   \n",
       "9          Hungary                       6                       17   \n",
       "10         Croatia                       6                       17   \n",
       "11        Ethiopia                       5                       14   \n",
       "12  United Kingdom                       5                       16   \n",
       "13           Italy                       5                       15   \n",
       "14        Zimbabwe                       5                        7   \n",
       "15          Sweden                       5                       18   \n",
       "16         Denmark                       5                       16   \n",
       "17         Uruguay                       5                       10   \n",
       "18            Fiji                       5                        5   \n",
       "19           Kenya                       4                       13   \n",
       "\n",
       "    Athletes_per_cap  \n",
       "0           0.000057  \n",
       "1           0.000074  \n",
       "2           0.000001  \n",
       "3           0.000188  \n",
       "4           0.000003  \n",
       "5           0.000914  \n",
       "6           0.000004  \n",
       "7           0.000012  \n",
       "8           0.000218  \n",
       "9           0.000684  \n",
       "10          0.000214  \n",
       "11          0.000003  \n",
       "12          0.000180  \n",
       "13          0.000177  \n",
       "14          0.000021  \n",
       "15          0.000825  \n",
       "16          0.000616  \n",
       "17          0.000166  \n",
       "18          0.000258  \n",
       "19          0.000014  "
      ]
     },
     "execution_count": 184,
     "metadata": {},
     "output_type": "execute_result"
    }
   ],
   "source": [
    "sqlit(\"SELECT Country, 100*Gold_Medals/total_athletes as golds_per_100_athletes, 100*All_Medals/total_athletes as medals_per_100_athletes, Athletes_per_cap FROM Indicators_and_Medals ORDER BY golds_per_100_athletes DESC LIMIT 20\")"
   ]
  },
  {
   "cell_type": "code",
   "execution_count": 185,
   "metadata": {},
   "outputs": [
    {
     "data": {
      "text/plain": [
       "Text(0.5, 1.0, 'Medals_per_cap and Urbanization Quartiles')"
      ]
     },
     "execution_count": 185,
     "metadata": {},
     "output_type": "execute_result"
    },
    {
     "data": {
      "image/png": "[encoded data removed]",
      "text/plain": [
       "<Figure size 432x288 with 1 Axes>"
      ]
     },
     "metadata": {
      "needs_background": "light"
     },
     "output_type": "display_data"
    }
   ],
   "source": [
    "plt.bar(Indicators_and_Medals['Urb_Pop_Quartile'],Indicators_and_Medals['Medals_per_cap'])\n",
    "plt.title(\"Medals_per_cap and Urbanization Quartiles\")"
   ]
  },
  {
   "cell_type": "code",
   "execution_count": 186,
   "metadata": {},
   "outputs": [
    {
     "data": {
      "text/plain": [
       "Text(0.5, 1.0, 'Golds_per_cap and Urbanization Quartiles')"
      ]
     },
     "execution_count": 186,
     "metadata": {},
     "output_type": "execute_result"
    },
    {
     "data": {
      "image/png": "[encoded data removed]",
      "text/plain": [
       "<Figure size 432x288 with 1 Axes>"
      ]
     },
     "metadata": {
      "needs_background": "light"
     },
     "output_type": "display_data"
    }
   ],
   "source": [
    "plt.bar(Indicators_and_Medals['Urb_Pop_Quartile'],Indicators_and_Medals['Golds_per_cap'])\n",
    "plt.title(\"Golds_per_cap and Urbanization Quartiles\")"
   ]
  },
  {
   "cell_type": "code",
   "execution_count": 187,
   "metadata": {},
   "outputs": [
    {
     "data": {
      "image/png": "[encoded data removed]",
      "text/plain": [
       "<Figure size 432x288 with 1 Axes>"
      ]
     },
     "metadata": {
      "needs_background": "light"
     },
     "output_type": "display_data"
    }
   ],
   "source": [
    "plt.bar(Indicators_and_Medals['GDP_Quartile'],Indicators_and_Medals['Golds_per_cap'])\n",
    "plt.title(\"Golds_per_cap and GDP Quartiles\")\n",
    "plt.tick_params(bottom=False, labelbottom= False)"
   ]
  },
  {
   "cell_type": "code",
   "execution_count": 188,
   "metadata": {},
   "outputs": [
    {
     "data": {
      "image/png": "[encoded data removed]",
      "text/plain": [
       "<Figure size 432x288 with 1 Axes>"
      ]
     },
     "metadata": {
      "needs_background": "light"
     },
     "output_type": "display_data"
    }
   ],
   "source": [
    "plt.bar(Indicators_and_Medals['GDP_Quartile'],Indicators_and_Medals['Medals_per_cap'])\n",
    "plt.title(\"Medals_per_cap and GDP Quartiles\")\n",
    "plt.tick_params(bottom=False, labelbottom= False)"
   ]
  },
  {
   "cell_type": "code",
   "execution_count": 189,
   "metadata": {},
   "outputs": [
    {
     "data": {
      "text/plain": [
       "Text(0.5, 1.0, 'Gold Medals per Pop and GDP')"
      ]
     },
     "execution_count": 189,
     "metadata": {},
     "output_type": "execute_result"
    },
    {
     "data": {
      "image/png": "[encoded data removed]",
      "text/plain": [
       "<Figure size 432x288 with 1 Axes>"
      ]
     },
     "metadata": {
      "needs_background": "light"
     },
     "output_type": "display_data"
    }
   ],
   "source": [
    "#GDP and Gold Medals\n",
    "plt.scatter(Indicators_and_Medals['GDP_Per_Cap'],Indicators_and_Medals['Gold_Medals'])\n",
    "plt.grid()\n",
    "plt.xscale(\"log\")\n",
    "plt.yscale(\"log\")\n",
    "plt.title(\"Gold Medals per Pop and GDP\")"
   ]
  },
  {
   "cell_type": "code",
   "execution_count": 190,
   "metadata": {},
   "outputs": [
    {
     "data": {
      "text/plain": [
       "Text(0.5, 1.0, 'Gold Medals per Pop and GDP')"
      ]
     },
     "execution_count": 190,
     "metadata": {},
     "output_type": "execute_result"
    },
    {
     "data": {
      "image/png": "[encoded data removed]",
      "text/plain": [
       "<Figure size 432x288 with 1 Axes>"
      ]
     },
     "metadata": {
      "needs_background": "light"
     },
     "output_type": "display_data"
    }
   ],
   "source": [
    "#GDP and Gold Medals\n",
    "plt.scatter(Indicators_and_Medals['GDP_Per_Cap'],Indicators_and_Medals['Gold_Medals'], s = (Indicators_and_Medals['Population_Quartile']+1)*20)\n",
    "plt.grid()\n",
    "plt.xscale(\"log\")\n",
    "plt.yscale(\"log\")\n",
    "plt.title(\"Gold Medals per Pop and GDP\")"
   ]
  },
  {
   "cell_type": "code",
   "execution_count": 191,
   "metadata": {},
   "outputs": [
    {
     "data": {
      "text/plain": [
       "Text(0.5, 1.0, 'Total Medals per Pop and GDP')"
      ]
     },
     "execution_count": 191,
     "metadata": {},
     "output_type": "execute_result"
    },
    {
     "data": {
      "image/png": "[encoded data removed]",
      "text/plain": [
       "<Figure size 432x288 with 1 Axes>"
      ]
     },
     "metadata": {
      "needs_background": "light"
     },
     "output_type": "display_data"
    }
   ],
   "source": [
    "#GDP and All Medals\n",
    "plt.scatter(Indicators_and_Medals['GDP_Per_Cap'],Indicators_and_Medals['All_Medals'], s = (Indicators_and_Medals['Population_Quartile']+1)*20)\n",
    "plt.grid()\n",
    "plt.xscale(\"log\")\n",
    "plt.yscale(\"log\")\n",
    "plt.title(\"Total Medals per Pop and GDP\")"
   ]
  },
  {
   "cell_type": "raw",
   "metadata": {},
   "source": []
  },
  {
   "cell_type": "code",
   "execution_count": 192,
   "metadata": {},
   "outputs": [
    {
     "data": {
      "text/plain": [
       "Text(0.5, 1.0, 'Total Medals per Pop, GDP per Capita, Urbanization Quartile (color) and Population Quartile (size)')"
      ]
     },
     "execution_count": 192,
     "metadata": {},
     "output_type": "execute_result"
    },
    {
     "data": {
      "image/png": "[encoded data removed]",
      "text/plain": [
       "<Figure size 432x288 with 1 Axes>"
      ]
     },
     "metadata": {
      "needs_background": "light"
     },
     "output_type": "display_data"
    }
   ],
   "source": [
    "#GDP and All Medals\n",
    "GDPAM_scatter = plt.scatter(Indicators_and_Medals['GDP_Per_Cap'],Indicators_and_Medals['All_Medals'], s = (Indicators_and_Medals['Population_Quartile']+1)*40, c = (Indicators_and_Medals[\"Urb_Pop_Quartile\"]))\n",
    "plt.grid()\n",
    "plt.xscale(\"log\")\n",
    "plt.yscale(\"log\")\n",
    "handles, labels = GDPAM_scatter.legend_elements(prop = \"colors\")\n",
    "labels = ['0', '1', '2', '3']\n",
    "plt.xlabel('GDP Per Capita')\n",
    "plt.ylabel('Total Medals Per Capita')\n",
    "plt.legend(handles, labels, title = 'Urban Pop Quartile')\n",
    "plt.title(\"Total Medals per Pop, GDP per Capita, Urbanization Quartile (color) and Population Quartile (size)\")"
   ]
  },
  {
   "cell_type": "code",
   "execution_count": 193,
   "metadata": {},
   "outputs": [
    {
     "data": {
      "image/png": "[encoded data removed]",
      "text/plain": [
       "<Figure size 432x288 with 1 Axes>"
      ]
     },
     "metadata": {
      "needs_background": "light"
     },
     "output_type": "display_data"
    }
   ],
   "source": [
    "plt.bar(Indicators_and_Medals['GDP_Quartile'],Indicators_and_Medals['All_Medals'])\n",
    "plt.title(\"Total Medals By GDP per capita Quartiles\")\n",
    "plt.tick_params(bottom=False, labelbottom= False)"
   ]
  },
  {
   "cell_type": "code",
   "execution_count": 194,
   "metadata": {},
   "outputs": [
    {
     "data": {
      "image/png": "[encoded data removed]",
      "text/plain": [
       "<Figure size 432x288 with 1 Axes>"
      ]
     },
     "metadata": {
      "needs_background": "light"
     },
     "output_type": "display_data"
    }
   ],
   "source": [
    "plt.bar(Indicators_and_Medals['GDP_Quartile'],Indicators_and_Medals['Gold_Medals'])\n",
    "plt.title(\"Gold Medals By GDP per capita Quartiles\")\n",
    "plt.tick_params(bottom=False, labelbottom= False)"
   ]
  },
  {
   "cell_type": "code",
   "execution_count": 195,
   "metadata": {},
   "outputs": [
    {
     "name": "stdout",
     "output_type": "stream",
     "text": [
      "<class 'pandas.core.frame.DataFrame'>\n",
      "RangeIndex: 89 entries, 0 to 88\n",
      "Data columns (total 15 columns):\n",
      " #   Column               Non-Null Count  Dtype  \n",
      "---  ------               --------------  -----  \n",
      " 0   Country              89 non-null     object \n",
      " 1   Population           89 non-null     int64  \n",
      " 2   Urban_Pop            89 non-null     float64\n",
      " 3   GDP_Per_Cap          89 non-null     float64\n",
      " 4   Gold_Medals          89 non-null     int64  \n",
      " 5   Gold_Quartile        89 non-null     int64  \n",
      " 6   All_Medals           89 non-null     int64  \n",
      " 7   Medals_Quartile      89 non-null     int64  \n",
      " 8   Population_Quartile  89 non-null     int64  \n",
      " 9   GDP_Quartile         89 non-null     int64  \n",
      " 10  Golds_per_cap        89 non-null     float64\n",
      " 11  Medals_per_cap       89 non-null     float64\n",
      " 12  Urb_Pop_Quartile     89 non-null     int64  \n",
      " 13  total_athletes       89 non-null     int64  \n",
      " 14  Athletes_per_cap     89 non-null     float64\n",
      "dtypes: float64(5), int64(9), object(1)\n",
      "memory usage: 10.6+ KB\n"
     ]
    }
   ],
   "source": [
    "Indicators_and_Medals.info()"
   ]
  },
  {
   "cell_type": "code",
   "execution_count": 196,
   "metadata": {},
   "outputs": [
    {
     "data": {
      "image/png": "[encoded data removed]",
      "text/plain": [
       "<Figure size 432x288 with 1 Axes>"
      ]
     },
     "metadata": {
      "needs_background": "light"
     },
     "output_type": "display_data"
    }
   ],
   "source": [
    "plt.bar(Indicators_and_Medals['Population_Quartile'],Indicators_and_Medals['Golds_per_cap'])\n",
    "plt.title(\"Gold Medals Per Capita By Population Quartiles\")\n",
    "plt.tick_params(bottom=False, labelbottom= False)"
   ]
  },
  {
   "cell_type": "code",
   "execution_count": 197,
   "metadata": {},
   "outputs": [
    {
     "data": {
      "image/png": "[encoded data removed]",
      "text/plain": [
       "<Figure size 432x288 with 1 Axes>"
      ]
     },
     "metadata": {
      "needs_background": "light"
     },
     "output_type": "display_data"
    }
   ],
   "source": [
    "plt.bar(Indicators_and_Medals['Population_Quartile'],Indicators_and_Medals['Medals_per_cap'])\n",
    "plt.title(\"Total Medals Per Capita By Population Quartiles\")\n",
    "plt.tick_params(bottom=False, labelbottom= False)"
   ]
  },
  {
   "cell_type": "code",
   "execution_count": 198,
   "metadata": {},
   "outputs": [
    {
     "data": {
      "text/html": [
       "<div>\n",
       "<style scoped>\n",
       "    .dataframe tbody tr th:only-of-type {\n",
       "        vertical-align: middle;\n",
       "    }\n",
       "\n",
       "    .dataframe tbody tr th {\n",
       "        vertical-align: top;\n",
       "    }\n",
       "\n",
       "    .dataframe thead th {\n",
       "        text-align: right;\n",
       "    }\n",
       "</style>\n",
       "<table border=\"1\" class=\"dataframe\">\n",
       "  <thead>\n",
       "    <tr style=\"text-align: right;\">\n",
       "      <th></th>\n",
       "      <th>Country</th>\n",
       "      <th>Golds per Million Pop</th>\n",
       "      <th>Medals per Million Pop</th>\n",
       "    </tr>\n",
       "  </thead>\n",
       "  <tbody>\n",
       "    <tr>\n",
       "      <th>0</th>\n",
       "      <td>Sweden</td>\n",
       "      <td>47.377741</td>\n",
       "      <td>151.925282</td>\n",
       "    </tr>\n",
       "    <tr>\n",
       "      <th>1</th>\n",
       "      <td>Finland</td>\n",
       "      <td>35.725647</td>\n",
       "      <td>162.389302</td>\n",
       "    </tr>\n",
       "    <tr>\n",
       "      <th>2</th>\n",
       "      <td>Denmark</td>\n",
       "      <td>30.884540</td>\n",
       "      <td>103.005980</td>\n",
       "    </tr>\n",
       "    <tr>\n",
       "      <th>3</th>\n",
       "      <td>New Zealand</td>\n",
       "      <td>18.637318</td>\n",
       "      <td>47.214539</td>\n",
       "    </tr>\n",
       "    <tr>\n",
       "      <th>4</th>\n",
       "      <td>Netherlands</td>\n",
       "      <td>16.742949</td>\n",
       "      <td>60.671314</td>\n",
       "    </tr>\n",
       "    <tr>\n",
       "      <th>5</th>\n",
       "      <td>Australia</td>\n",
       "      <td>13.619988</td>\n",
       "      <td>51.662024</td>\n",
       "    </tr>\n",
       "    <tr>\n",
       "      <th>6</th>\n",
       "      <td>Uruguay</td>\n",
       "      <td>8.918702</td>\n",
       "      <td>18.125105</td>\n",
       "    </tr>\n",
       "    <tr>\n",
       "      <th>7</th>\n",
       "      <td>Belgium</td>\n",
       "      <td>8.449404</td>\n",
       "      <td>40.350216</td>\n",
       "    </tr>\n",
       "    <tr>\n",
       "      <th>8</th>\n",
       "      <td>Luxembourg</td>\n",
       "      <td>6.372430</td>\n",
       "      <td>12.744861</td>\n",
       "    </tr>\n",
       "    <tr>\n",
       "      <th>9</th>\n",
       "      <td>Greece</td>\n",
       "      <td>5.953561</td>\n",
       "      <td>24.486419</td>\n",
       "    </tr>\n",
       "    <tr>\n",
       "      <th>10</th>\n",
       "      <td>Argentina</td>\n",
       "      <td>2.010275</td>\n",
       "      <td>6.052915</td>\n",
       "    </tr>\n",
       "    <tr>\n",
       "      <th>11</th>\n",
       "      <td>Japan</td>\n",
       "      <td>1.953999</td>\n",
       "      <td>7.222677</td>\n",
       "    </tr>\n",
       "    <tr>\n",
       "      <th>12</th>\n",
       "      <td>Bahrain</td>\n",
       "      <td>0.584434</td>\n",
       "      <td>1.753302</td>\n",
       "    </tr>\n",
       "    <tr>\n",
       "      <th>13</th>\n",
       "      <td>Brazil</td>\n",
       "      <td>0.512165</td>\n",
       "      <td>2.231912</td>\n",
       "    </tr>\n",
       "    <tr>\n",
       "      <th>14</th>\n",
       "      <td>Puerto Rico</td>\n",
       "      <td>0.351264</td>\n",
       "      <td>3.161378</td>\n",
       "    </tr>\n",
       "    <tr>\n",
       "      <th>15</th>\n",
       "      <td>Dominican Republic</td>\n",
       "      <td>0.276074</td>\n",
       "      <td>0.644172</td>\n",
       "    </tr>\n",
       "    <tr>\n",
       "      <th>16</th>\n",
       "      <td>Mexico</td>\n",
       "      <td>0.232259</td>\n",
       "      <td>0.851617</td>\n",
       "    </tr>\n",
       "    <tr>\n",
       "      <th>17</th>\n",
       "      <td>Singapore</td>\n",
       "      <td>0.170697</td>\n",
       "      <td>1.536276</td>\n",
       "    </tr>\n",
       "    <tr>\n",
       "      <th>18</th>\n",
       "      <td>Chile</td>\n",
       "      <td>0.156702</td>\n",
       "      <td>1.671489</td>\n",
       "    </tr>\n",
       "    <tr>\n",
       "      <th>19</th>\n",
       "      <td>Israel</td>\n",
       "      <td>0.115227</td>\n",
       "      <td>1.037044</td>\n",
       "    </tr>\n",
       "    <tr>\n",
       "      <th>20</th>\n",
       "      <td>United Arab Emirates</td>\n",
       "      <td>0.100899</td>\n",
       "      <td>0.201798</td>\n",
       "    </tr>\n",
       "    <tr>\n",
       "      <th>21</th>\n",
       "      <td>Jordan</td>\n",
       "      <td>0.097842</td>\n",
       "      <td>0.097842</td>\n",
       "    </tr>\n",
       "  </tbody>\n",
       "</table>\n",
       "</div>"
      ],
      "text/plain": [
       "                 Country  Golds per Million Pop  Medals per Million Pop\n",
       "0                 Sweden              47.377741              151.925282\n",
       "1                Finland              35.725647              162.389302\n",
       "2                Denmark              30.884540              103.005980\n",
       "3            New Zealand              18.637318               47.214539\n",
       "4            Netherlands              16.742949               60.671314\n",
       "5              Australia              13.619988               51.662024\n",
       "6                Uruguay               8.918702               18.125105\n",
       "7                Belgium               8.449404               40.350216\n",
       "8             Luxembourg               6.372430               12.744861\n",
       "9                 Greece               5.953561               24.486419\n",
       "10             Argentina               2.010275                6.052915\n",
       "11                 Japan               1.953999                7.222677\n",
       "12               Bahrain               0.584434                1.753302\n",
       "13                Brazil               0.512165                2.231912\n",
       "14           Puerto Rico               0.351264                3.161378\n",
       "15    Dominican Republic               0.276074                0.644172\n",
       "16                Mexico               0.232259                0.851617\n",
       "17             Singapore               0.170697                1.536276\n",
       "18                 Chile               0.156702                1.671489\n",
       "19                Israel               0.115227                1.037044\n",
       "20  United Arab Emirates               0.100899                0.201798\n",
       "21                Jordan               0.097842                0.097842"
      ]
     },
     "execution_count": 198,
     "metadata": {},
     "output_type": "execute_result"
    }
   ],
   "source": [
    "sqlit(\"SELECT Country, Golds_per_cap*1000000 as 'Golds per Million Pop', Medals_per_cap*1000000 as 'Medals per Million Pop' FROM Indicators_and_Medals WHERE Urb_Pop_Quartile = 3 ORDER BY Golds_per_cap*1000000 DESC\")"
   ]
  },
  {
   "cell_type": "code",
   "execution_count": null,
   "metadata": {},
   "outputs": [],
   "source": []
  }
 ],
 "metadata": {
  "kernelspec": {
   "display_name": "Python 3",
   "language": "python",
   "name": "python3"
  },
  "language_info": {
   "codemirror_mode": {
    "name": "ipython",
    "version": 3
   },
   "file_extension": ".py",
   "mimetype": "text/x-python",
   "name": "python",
   "nbconvert_exporter": "python",
   "pygments_lexer": "ipython3",
   "version": "3.8.5"
  }
 },
 "nbformat": 4,
 "nbformat_minor": 4
}
